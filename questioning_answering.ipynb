{
 "cells": [
  {
   "cell_type": "markdown",
   "id": "3f373d64",
   "metadata": {},
   "source": [
    "# Questioning-and-Answering on Private Documents"
   ]
  },
  {
   "cell_type": "code",
   "execution_count": 1,
   "id": "f30ac8c2",
   "metadata": {},
   "outputs": [
    {
     "data": {
      "text/plain": [
       "True"
      ]
     },
     "execution_count": 1,
     "metadata": {},
     "output_type": "execute_result"
    }
   ],
   "source": [
    "import os\n",
    "from dotenv import load_dotenv, find_dotenv\n",
    "load_dotenv(find_dotenv(), override=True)"
   ]
  },
  {
   "cell_type": "code",
   "execution_count": 2,
   "id": "d03189f6",
   "metadata": {},
   "outputs": [
    {
     "name": "stdout",
     "output_type": "stream",
     "text": [
      "Note: you may need to restart the kernel to use updated packages.\n"
     ]
    }
   ],
   "source": [
    "pip install pypdf -q"
   ]
  },
  {
   "cell_type": "code",
   "execution_count": 3,
   "id": "a28ead49",
   "metadata": {},
   "outputs": [
    {
     "name": "stdout",
     "output_type": "stream",
     "text": [
      "Note: you may need to restart the kernel to use updated packages.\n"
     ]
    }
   ],
   "source": [
    "pip install docx2txt -q"
   ]
  },
  {
   "cell_type": "code",
   "execution_count": 4,
   "id": "1e49ce5c",
   "metadata": {},
   "outputs": [
    {
     "name": "stdout",
     "output_type": "stream",
     "text": [
      "Note: you may need to restart the kernel to use updated packages.\n"
     ]
    }
   ],
   "source": [
    "pip install wikipedia -q"
   ]
  },
  {
   "cell_type": "markdown",
   "id": "f7bafdda",
   "metadata": {},
   "source": [
    "### Loaders"
   ]
  },
  {
   "cell_type": "code",
   "execution_count": 5,
   "id": "bc1a8184",
   "metadata": {},
   "outputs": [],
   "source": [
    "def load_document(file):\n",
    "    import os\n",
    "    name, extension = os.path.splitext(file)\n",
    "    if extension == '.pdf':\n",
    "        from langchain.document_loaders import PyPDFLoader\n",
    "        print(f'Loading {file}')\n",
    "        loader = PyPDFLoader(file)\n",
    "    elif extension == '.docx':\n",
    "        from langchain.document_loaders import Docx2txtLoader\n",
    "        print(f'Loading {file}')\n",
    "        loader = Docx2txtLoader(file)\n",
    "    elif extension == '.txt':\n",
    "        from langchain.document_loaders import TextLoader\n",
    "        print(f'Loading {file}')\n",
    "        loader = TextLoader(file)\n",
    "    else:\n",
    "        print('Document format is not supported!')\n",
    "        return None\n",
    "    data = loader.load()\n",
    "    return data\n",
    "\n",
    "# wikipedia\n",
    "def load_from_wikipedia(query, lang='en', load_max_docs=2):\n",
    "    from langchain.document_loaders import WikipediaLoader\n",
    "    loader = WikipediaLoader(query=query, lang=lang, load_max_docs=load_max_docs)\n",
    "    data = loader.load()\n",
    "    return data"
   ]
  },
  {
   "cell_type": "markdown",
   "id": "ca60cad0",
   "metadata": {},
   "source": [
    "### Chunking Data"
   ]
  },
  {
   "cell_type": "code",
   "execution_count": 6,
   "id": "80435838",
   "metadata": {},
   "outputs": [],
   "source": [
    "def chunk_data(data, chunk_size=256, chunk_overlap=0):\n",
    "    from langchain.text_splitter import RecursiveCharacterTextSplitter\n",
    "    text_splitter = RecursiveCharacterTextSplitter(chunk_size=chunk_size, chunk_overlap=chunk_overlap)\n",
    "    chunks = text_splitter.split_documents(data)\n",
    "    return chunks"
   ]
  },
  {
   "cell_type": "markdown",
   "id": "0a4e0195",
   "metadata": {},
   "source": [
    "### Calculating Cost"
   ]
  },
  {
   "cell_type": "code",
   "execution_count": 7,
   "id": "8e2af8a5",
   "metadata": {},
   "outputs": [],
   "source": [
    "def print_embedding_cost(texts):\n",
    "    import tiktoken\n",
    "    enc = tiktoken.encoding_for_model('text-embedding-ada-002')\n",
    "    total_tokens = sum([len(enc.encode(page.page_content)) for page in texts])\n",
    "    print(f'Total Tokens: {total_tokens}')\n",
    "    print(f'Embedding Cost in USD: {total_tokens / 1000 * 0.0004:.6f}')\n"
   ]
  },
  {
   "cell_type": "markdown",
   "id": "ed0f189e",
   "metadata": {},
   "source": [
    "### Embedding and Uploading to a Vector Database"
   ]
  },
  {
   "cell_type": "code",
   "execution_count": 8,
   "id": "0820af51",
   "metadata": {},
   "outputs": [],
   "source": [
    "def insert_or_fetch_embeddings(index_name):\n",
    "    import pinecone\n",
    "    from langchain.vectorstores import Pinecone\n",
    "    from langchain.embeddings.openai import OpenAIEmbeddings\n",
    "    \n",
    "    embeddings = OpenAIEmbeddings()\n",
    "    pinecone.init(api_key=os.environ.get('PINECONE_API_KEY'), environment=os.environ.get('PINECONE_ENV'))\n",
    "    \n",
    "    if index_name in pinecone.list_indexes():\n",
    "        print(f'Index {index_name} already exists. Loading embeddings ... ', end='')\n",
    "        vector_store = Pinecone.from_existing_index(index_name, embeddings)\n",
    "        print('Done')\n",
    "    else:\n",
    "        print(f'Creating index {index_name} and embeddings ... ', end='')\n",
    "        pinecone.create_index(index_name, dimension=1536, metric='cosine')\n",
    "        vector_store = Pinecone.from_documents(chunks, embeddings, index_name=index_name)\n",
    "        print('Done')\n",
    "    \n",
    "    return vector_store"
   ]
  },
  {
   "cell_type": "code",
   "execution_count": 9,
   "id": "053dd49b",
   "metadata": {},
   "outputs": [],
   "source": [
    "def delete_pinecone_index(index_name='all'):\n",
    "    import pinecone\n",
    "    pinecone.init(api_key=os.environ.get('PINECONE_API_KEY'), environment=os.environ.get('PINECONE_ENV'))\n",
    "    \n",
    "    if index_name == 'all':\n",
    "        indexes = pinecone.list_indexes()\n",
    "        print('Deleting all indexes ... ')\n",
    "        for index in indexes:\n",
    "            pinecone.delete_index(index)\n",
    "        print('Done')\n",
    "    else:\n",
    "        print(f'Deleting index {index_name} ...', end='')\n",
    "        pinecone.delete_index(index_name)\n",
    "        print('Done')"
   ]
  },
  {
   "cell_type": "markdown",
   "id": "53226166",
   "metadata": {},
   "source": [
    "### Asking and Getting Answers"
   ]
  },
  {
   "cell_type": "code",
   "execution_count": 10,
   "id": "97ecad4a",
   "metadata": {},
   "outputs": [],
   "source": [
    "def ask_and_get_answer(vector_store, query):\n",
    "    from langchain.chains import RetrievalQA\n",
    "    from langchain.chat_models import ChatOpenAI\n",
    "\n",
    "    llm = ChatOpenAI(model='gpt-4', temperature=1)\n",
    "    retriever = vector_store.as_retriever(search_type='similarity', search_kwargs={'k': 3})\n",
    "    chain = RetrievalQA.from_chain_type(llm=llm, chain_type=\"stuff\", retriever=retriever)\n",
    "    answer = chain.run(query)\n",
    "    \n",
    "    return answer\n",
    "\n",
    "def ask_with_memory(vector_store, query, chat_history=[]):\n",
    "    from langchain.chains import ConversationalRetrievalChain\n",
    "    from langchain.chat_models import ChatOpenAI\n",
    "    \n",
    "    llm = ChatOpenAI(model='gpt-3.5-turbo', temperature=1)\n",
    "    retriever = vector_store.as_retriever(search_type='similarity', search_kwargs={'k': 3})\n",
    "    crc = ConversationalRetrievalChain.from_llm(llm, retriever)\n",
    "    result = crc({'question': query, 'chat_history': chat_history})\n",
    "    chat_history.append((query, result['answer']))\n",
    "    \n",
    "    return result, chat_history"
   ]
  },
  {
   "cell_type": "markdown",
   "id": "c67df177",
   "metadata": {},
   "source": [
    "### Running Code"
   ]
  },
  {
   "cell_type": "code",
   "execution_count": 11,
   "id": "631d0bcf",
   "metadata": {},
   "outputs": [
    {
     "name": "stdout",
     "output_type": "stream",
     "text": [
      "Loading ./constitution.pdf\n",
      "You have 19 pages in your data.\n",
      "There are 3174 characters in the page \n"
     ]
    }
   ],
   "source": [
    "data = load_document('./constitution.pdf')\n",
    "# print(data[1].page_content)\n",
    "# print(data[10].metadata)\n",
    "print(f'You have {len(data)} pages in your data.')\n",
    "print(f'There are {len(data[11].page_content)} characters in the page ')"
   ]
  },
  {
   "cell_type": "code",
   "execution_count": 12,
   "id": "797f8149",
   "metadata": {},
   "outputs": [
    {
     "name": "stdout",
     "output_type": "stream",
     "text": [
      "Loading ./World_History.docx\n",
      "Summer Assignment: World History \n",
      "\n",
      "Objective: The student understands the impact of Mahatma Gandhi on the political resistance to British Rule in India in the 20th Century. \n",
      "\n",
      "TEKS Alignment:\n",
      "\n",
      "WH.20(B) describe the rights and responsibilities of citizens and noncitizens in civic participation throughout history\n",
      "\n",
      "WH.21(E) identify examples of individuals who led resistance to political oppression such as Mohandas Gandhi\n",
      "\n",
      "\n",
      "\n",
      "Instructions: Read through the following documents carefully.  Respond to the following prompts:\n",
      "\n",
      "With reference to its origin, purpose and content, analyze the value and limitations of Document 4 to historians studying Gandhi’s resistance to British rule in India.  Please respond in one full and complete paragraph. (10 Points)\n",
      "\n",
      "Use the sources to evaluate the impact of Gandhi’s resistance against the British government in India. In other words, do these sources indicate that Gandhi’s resistance was successful or unsuccessful? If he was successful, what do these sources tell you about why? If not, what do these sources tell you about why not? Please respond to this prompt in an essay 1-2 double spaced pages in length. Be sure to create a strong thesis statement directly answering the prompt and refer to at least half of the documents to support your claim.  (20 Points)\n",
      "\n",
      "\n",
      "\n",
      "Document 1\n",
      "\n",
      "Source: \"Gandhi.\" Gale In Context Online Collection, Gale, 2017. Gale In Context: High School,  Accessed 27 Apr. 2021\n",
      "\n",
      "Mahatma Gandhi (1869–1948) was an Indian civil rights activist who led the movement to free India from British colonial rule throughout the first half of the twentieth century. A notable supporter of nonviolent civil disobedience, Gandhi staged several hunger strikes and other peaceful demonstrations throughout his life to protest British control of India. He strongly opposed the United Kingdom’s 1947 partition (division) of India into the two nations of India and Pakistan. His attempts to negotiate with Pakistan’s Muslims led to his assassination in 1948 by a Hindu extremist. After his death, Gandhi was remembered around the world for his support for peace as a means of producing change.\n",
      "\n",
      "Document 2\n",
      "\n",
      "Source: Studio photograph of Mohandas K. Gandhi, London, 1931\n",
      "\n",
      "\n",
      "\n",
      "\n",
      "\n",
      "\n",
      "Document 3\n",
      "\n",
      "Source: \"In A Way, Gandhi Also Won 2014's Nobel Peace Prize.\" Weekend Edition Saturday, 11 Oct. 2014. Gale In Context: High School, Accessed 27 Apr. 2021\n",
      "\n",
      "Mahatma Gandhi never won the Nobel Peace Prize. A lot of people who've dropped bombs, launched missiles and made war have made the Nobel, but not the man whose very silhouette - baldheaded, wrapped in cloth and walking in sandals across a perilous world - is taken to be a symbol of peace across the globe.\n",
      "\n",
      "Historians have suggested Gandhi's selection would have riled too many people while he was alive. \n",
      "\n",
      "Before Mahatma Gandhi was a beloved symbol, he rattled the world - India and Pakistan especially. He thought India's caste system was cruel, especially for those classified as untouchables and went on hunger strikes against it. He fought against separating Hindu and Muslim political parties and assemblies. He called on Indians to abolish child marriage and to keep young women in schools. Gandhi wanted women to be part of his movement. They joined him on boycotts, long marches and in the leadership of his Congress Party.\n",
      "\n",
      "Gandhi did not celebrate when India gained independence in August 1947 because it divided the country along religious lines - Hindu and Muslim, India and Pakistan. He went on a last hunger strike in January 1948 to convince the new Indian government to pay cash owed to Pakistan. And then he was assassinated by a Hindu extremist who felt the mahatma had betrayed his faith.\n",
      "\n",
      "[In 2014] Malala Yousafzai won the Nobel Peace Prize. She was a 17-year-old from Pakistan who survived the shot of an assassin to campaign for the rights of young women in her country.  Mahatma Gandhi never won the Nobel Peace Prize, but in a way, [in 2014] he did.\n",
      "\n",
      "\n",
      "\n",
      "\n",
      "\n",
      "\n",
      "Document 4\n",
      "\n",
      "Source:  In August of 1942, Gandhi launched the Quit India Movement to call for an end to the British rule. The Quit India Resolution was passed on August 8, 1942. The resolution stated, \"On the declaration of India's independence a provisional government will be formed and free India will become an ally of the United Nations.\" The following is the concluding portion of Gandhi's “Quit India” speeches. He gave it in Bombay, India on August 8 1942.\n",
      "\n",
      "\n",
      "\n",
      "I have taken such an inordinately long time over pouring out what was agitating my soul, to those whom I had just now the privilege of serving. I have been called their leader or, in the military language, their commander. But I do not look at my position in that light. I have no weapon but love to wield my authority over any one. I do sport a stick which you can break into bits without the slightest exertion. It is simply my staff with the help of which I walk. Such a cripple is not elated, when he has been called upon to bear the greatest burden. You can share that burden only when I appear before you not as your commander but as a humble servant. And he who serves best is the chief among equals.\n",
      "\n",
      "\n",
      "\n",
      "\n",
      "\n",
      "\n",
      "Document 5\n",
      "\n",
      "Source: Illustration by Paulo Garretto:The Graphic, May 24, 1930\n",
      "\n",
      "\n",
      "\n",
      "This cartoon shows Gandhi salting the tail of the British lion. It is based on an old folk belief that if you put salt on a bird’s tail you will then be able to catch it\n",
      "\n",
      "\n",
      "\n",
      "\n",
      "\n",
      "\n",
      "Question 1 Rubric\n",
      "\n",
      "Failing  (0-2 Points)\n",
      "\n",
      "The response does not reach a standard described by the descriptors below. \n",
      "\n",
      "Approaching (3-5 Points)\n",
      "\n",
      "The origin and purpose of the document is stated but may be missing two or more of the following; the author’s name, the date of publication, the type of document or intended audience and purpose. \n",
      "\n",
      "\n",
      "\n",
      "Explanation of value of the document with respect to the origin, purpose, and content is attempted but requires clarity. \n",
      "\n",
      "\n",
      "\n",
      "Explanation of limitations of the document with respect to \n",
      "\n",
      "origin, purpose, and content is attempted but requires clarity. \n",
      "\n",
      "Passing (6-7 Points)\n",
      "\n",
      "The origin and purpose of the document is stated but may be missing one of the following; the author’s name, the date of publication, the type of document or intended audience and purpose. \n",
      "\n",
      "\n",
      "\n",
      "Value of the document with respect to the origin, purpose, and content is  clearly explained but requires elaboration.\n",
      "\n",
      "\n",
      "\n",
      "Limitations of the document with respect to \n",
      "\n",
      "origin, purpose, and content is explained but requires elaboration. \n",
      "\n",
      "Masterful  (8-10 Points)\n",
      "\n",
      "The origin and purpose of the document is clearly and accurately stated and includes the author’s name, the date of publication, the type of document and intended audience and purpose. \n",
      "\n",
      "\n",
      "\n",
      "Value of the document with respect to the origin, purpose, and content is relevant, insightful and clearly explained. \n",
      "\n",
      "\n",
      "\n",
      "Limitations of the document with respect to \n",
      "\n",
      "origin, purpose, and content are relevant, insightful and clearly explained, \n",
      "\n",
      "\n",
      "\n",
      "Question 2 Rubric\n",
      "\n",
      "Failing  (0-5 Points)\n",
      "\n",
      "The response does not reach a standard described by the descriptors below. \n",
      "\n",
      "Approaching (6-12 Points)\n",
      "\n",
      "The response lacks  focus on the question. \n",
      "\n",
      "\n",
      "\n",
      "References to the sources are made but at this level these references are likely to consist of descriptions of the content of the sources rather than the sources being used as evidence to support analysis.\n",
      "\n",
      "Passing (13-16 Points)\n",
      "\n",
      "The response is generally  focused on the question. \n",
      "\n",
      "\n",
      "\n",
      "Clear references are made to at least two of the sources, and these references are used  as evidence to support the analysis. \n",
      "\n",
      "Masterful  (17-20 Points)\n",
      "\n",
      "The response is focused on the question. \n",
      "\n",
      "\n",
      "\n",
      "Clear references are made to at least two of the sources, and these references are used effectively as evidence to support the analysis.\n"
     ]
    }
   ],
   "source": [
    "data2 = load_document('./World_History.docx')\n",
    "print(data2[0].page_content)"
   ]
  },
  {
   "cell_type": "code",
   "execution_count": 13,
   "id": "a5ac0593",
   "metadata": {},
   "outputs": [
    {
     "name": "stdout",
     "output_type": "stream",
     "text": [
      "GPT-4 (acronyme de Generative Pre-trained Transformer 4) est un modèle de langage multimodalmultimodal, de type transformeur génératif pré-entraîné, développé par la société OpenAI et sorti le 14 mars 2023, il succède à GPT-3.\n",
      "\n",
      "\n",
      "== Caractéristiques ==\n",
      "OpenAI annonce, sur son blog, GPT-4 comme étant « plus fiable, créatif et capable de gérer des instructions beaucoup plus nuancées que GPT-3.5 ». L'organisation a produit deux versions de GPT-4 avec des fenêtres contextuelles de 8 192 et 32 768 jetons, une amélioration significative par rapport à GPT-3.5 et GPT-3, qui étaient limités à 4 096 et 2 048 jetons respectivement. Contrairement à son prédécesseur, GPT-4 peut prendre des images ainsi que du texte comme entrées.\n",
      "OpenAI adopte une approche fermée en ce qui concerne les détails techniques de GPT-4 ; le rapport technique s'est explicitement abstenu de spécifier la taille, l'architecture, le matériel ou la méthode de formation du modèle. Le rapport affirme que « le paysage concurrentiel et les implications sur la sécurité des modèles à grande échelle » sont des facteurs qui ont influencé cette décision. Le nombre précis de paramètres de GPT-4 reste inconnu, mais The Verge cite des rumeurs selon lesquelles GPT-4 augmenterait considérablement le nombre de paramètres de GPT-3 de 175 milliards à 100 000 milliards. Le PDG d'OpenAI, Sam Altman, qualifie ces rumeurs de « conneries complètes ». Un nombre plus fréquemment avancé est celui de 1000 milliards de paramètres,.\n",
      "Les représentants américains Don Beyer et Ted Lieu ont confirmé au New York Times qu'Altman s'était rendu au Congrès des États-Unis en janvier 2023 pour faire la démonstration du GPT-4 et de ses \"contrôles de sécurité\" améliorés par rapport aux autres modèles d'IA.\n",
      "\n",
      "\n",
      "=== Limites ===\n",
      "Aussi, même si cette version est améliorée par rapport à son prédécesseur, GPT-4 peut halluciner et présenter des biais.\n",
      "\n",
      "\n",
      "== Applications ==\n",
      "\n",
      "\n",
      "=== ChatGPT Plus ===\n",
      "GPT-4 est accessible via une application web appelée ChatGPT Plus, version payante de l'application gratuite ChatGPT.\n",
      "Des modules complémentaires sont développés par des tiers pour étendre les fonctionnalités de ChatGPT Plus et connecter le robot à leurs propres services. Open AI développe également ses propres modules dont Advanced data analysis (précédemment appelé Code interpreter). Ce dernier permet au robot de traiter des fichiers en exécutant lui-même du code Python, ce qui permet à l'utilisateur de réaliser des traitements de données et des graphiques en langage naturel. Le module améliore également les capacités de résolution de problèmes en mathématiques, physique et chimie.\n",
      "\n",
      "\n",
      "=== Bing ===\n",
      "En février 2023, Microsoft dote son moteur de recherche Bing d'un agent conversationnel reposant sur la technologie GPT-4. Cet agent répond aux questions de l'utilisateur en effectuant des recherches web. Contrairement à l'application d'Open AI, il cite ses sources, ce qui permet à l'utilisateur de les consulter lui-même.\n",
      "\n",
      "\n",
      "== Réception ==\n",
      "Pour le New York Times, GPT-4 est plus précis que GPT-3.5, il est capable de résumer et de commenter des images ainsi que des textes compliqués. Le journal affirme également qu'il a réussi un examen du barreau et plusieurs tests standardisés, mais qu'il montre cependant une tendance à halluciner les réponses.\n",
      "\n",
      "\n",
      "== Notes et références ==\n",
      "\n",
      "\n",
      "== Annexes ==\n",
      "\n",
      "\n",
      "=== Articles connexes ===\n",
      "BERT (modèle de langage)\n",
      "ChatGPT\n",
      "Intelligence artificielle\n",
      "Intelligence artificielle générale\n",
      "\n",
      "\n",
      "=== Liens externes ===\n",
      "\n",
      "(en) Site officiel\n",
      "\n",
      " Portail de l’informatique\n"
     ]
    }
   ],
   "source": [
    "data3 = load_from_wikipedia('GPT-4', 'fr')\n",
    "print(data3[0].page_content)"
   ]
  },
  {
   "cell_type": "code",
   "execution_count": 14,
   "id": "131071d7",
   "metadata": {},
   "outputs": [
    {
     "name": "stdout",
     "output_type": "stream",
     "text": [
      "247\n",
      "Jersey four, Pennsylvania eight, Delaw are one, Maryland  \n",
      "six, Virginia ten, North Carolina five, South Carolina five, \n",
      "and Georgia three.  \n",
      "When vacancies happen in the Representation from any\n"
     ]
    }
   ],
   "source": [
    "chunks = chunk_data(data)\n",
    "print(len(chunks))\n",
    "print(chunks[10].page_content)"
   ]
  },
  {
   "cell_type": "code",
   "execution_count": 15,
   "id": "6c5f2f15",
   "metadata": {},
   "outputs": [
    {
     "name": "stdout",
     "output_type": "stream",
     "text": [
      "Total Tokens: 12912\n",
      "Embedding Cost in USD: 0.005165\n"
     ]
    }
   ],
   "source": [
    "print_embedding_cost(chunks)"
   ]
  },
  {
   "cell_type": "code",
   "execution_count": 17,
   "id": "7e10220f",
   "metadata": {},
   "outputs": [
    {
     "name": "stdout",
     "output_type": "stream",
     "text": [
      "Deleting all indexes ... \n",
      "Done\n"
     ]
    }
   ],
   "source": [
    "delete_pinecone_index()"
   ]
  },
  {
   "cell_type": "code",
   "execution_count": 18,
   "id": "1be9cf68",
   "metadata": {},
   "outputs": [
    {
     "name": "stdout",
     "output_type": "stream",
     "text": [
      "Creating index askadocument and embeddings ... Done\n"
     ]
    }
   ],
   "source": [
    "index_name = 'askadocument'\n",
    "vector_store = insert_or_fetch_embeddings(index_name) "
   ]
  },
  {
   "cell_type": "code",
   "execution_count": 19,
   "id": "4bcff510",
   "metadata": {},
   "outputs": [
    {
     "name": "stdout",
     "output_type": "stream",
     "text": [
      "I'm sorry, but there is no document provided for me to review and share details about. Could you please provide more information?\n"
     ]
    }
   ],
   "source": [
    "query = 'What is the whole document about?'\n",
    "answer = ask_and_get_answer(vector_store, query)\n",
    "print(answer)"
   ]
  },
  {
   "cell_type": "code",
   "execution_count": 20,
   "id": "aa7578de",
   "metadata": {},
   "outputs": [
    {
     "name": "stdout",
     "output_type": "stream",
     "text": [
      "Write Quit or Exit to quit.\n",
      "Question #1: Describe the Bill of Rights\n",
      "\n",
      "Answer: The Bill of Rights refers to the first 10 amendments to the Constitution of the United States. These were ratified on December 15, 1791. These amendments outline and guarantee certain rights and freedoms for the citizens of the United States, such as freedom of speech, protection from unreasonable searches and seizures, and the right to a speedy and public trial, among others. The purpose of the Bill of Rights is to provide a clear constitutional check on governmental power, protecting individuals and the rights of states.\n",
      "\n",
      " -------------------------------------------------- \n",
      "\n",
      "Question #2: What is the first amendment of the US Constitution\n",
      "\n",
      "Answer: The first amendment of the US Constitution states: \"Congress shall make no law respecting an establishment of religion, or prohibiting the free exercise thereof; or abridging the freedom of speech, or of the press; or the right of the people peaceably to assemble, and to petition the Government for a redress of grievances.\" Note: The text \"Congress shall make no law respecting an establishment of\" in the given context should actually continue as \"religion...\" however, this isn't given in the provided context.\n",
      "\n",
      " -------------------------------------------------- \n",
      "\n",
      "Question #3: Explain the concept of \"Federalism\" that is presented in the US Constitution\n",
      "\n",
      "Answer: The text provided does not include any specific details about the concept of \"Federalism\" as presented in the U.S. Constitution. However, generally speaking, federalism is a system of government in which powers are divided between a central government and individual states. This is a key part of how the U.S. government outlined in the Constitution operates, but specific details are not available in this text.\n",
      "\n",
      " -------------------------------------------------- \n",
      "\n",
      "Question #4: quit\n",
      "Bye Bye ... see you later!\n"
     ]
    }
   ],
   "source": [
    "import time \n",
    "i = 1\n",
    "print('Write Quit or Exit to quit.')\n",
    "while True:\n",
    "    query = input(f'Question #{i}: ')\n",
    "    i = i + 1\n",
    "    if query.lower() in ['quit', 'exit']:\n",
    "        print('Bye Bye ... see you later!')\n",
    "        time.sleep(2)\n",
    "        break\n",
    "    \n",
    "    answer = ask_and_get_answer(vector_store, query)\n",
    "    print(f'\\nAnswer: {answer}')\n",
    "    print(f'\\n {\"-\" * 50} \\n')"
   ]
  },
  {
   "cell_type": "code",
   "execution_count": 22,
   "id": "8205cf7b",
   "metadata": {},
   "outputs": [
    {
     "name": "stdout",
     "output_type": "stream",
     "text": [
      "Deleting all indexes ... \n",
      "Done\n"
     ]
    }
   ],
   "source": [
    "delete_pinecone_index()"
   ]
  },
  {
   "cell_type": "code",
   "execution_count": 23,
   "id": "66ea5399",
   "metadata": {},
   "outputs": [
    {
     "name": "stdout",
     "output_type": "stream",
     "text": [
      "Creating index chatgpt and embeddings ... Done\n"
     ]
    }
   ],
   "source": [
    "data = load_from_wikipedia('ChatGPT', 'es')\n",
    "chunks = chunk_data(data)\n",
    "index_name = 'chatgpt'\n",
    "vector_store = insert_or_fetch_embeddings(index_name)"
   ]
  },
  {
   "cell_type": "code",
   "execution_count": 24,
   "id": "463185f0",
   "metadata": {},
   "outputs": [
    {
     "name": "stdout",
     "output_type": "stream",
     "text": [
      "InstructGPT es un modelo de inteligencia artificial desarrollado por OpenAI. Este modelo es entrenado para seguir instrucciones escritas en un contexto conversacional y generar respuestas basadas en la información que ha aprendido. Utiliza una técnica conocida como \"transformador\" para interpretar y procesar el lenguaje natural.\n"
     ]
    }
   ],
   "source": [
    "# query = \"Qué es el chat gpt\"\n",
    "# query = \"Cuándo se lanzó gpt\"\n",
    "query = \"Qué es InstructGPT\"\n",
    "answer = ask_and_get_answer(vector_store, query)\n",
    "print(answer)"
   ]
  },
  {
   "cell_type": "code",
   "execution_count": 21,
   "id": "d983c111",
   "metadata": {},
   "outputs": [
    {
     "name": "stdout",
     "output_type": "stream",
     "text": [
      "The last amendment in the Bill of Rights is the Tenth Amendment.\n",
      "[('What is the last bill of rights in the US Constitution?', 'The last amendment in the Bill of Rights is the Tenth Amendment.')]\n"
     ]
    }
   ],
   "source": [
    "# asking with memory\n",
    "chat_history = []\n",
    "query = \"What is the last bill of rights in the US Constitution?\"\n",
    "result, chat_history = ask_with_memory(vector_store, query, chat_history)\n",
    "print(result['answer'])\n",
    "print(chat_history)"
   ]
  },
  {
   "cell_type": "code",
   "execution_count": 22,
   "id": "2a41c588",
   "metadata": {},
   "outputs": [
    {
     "name": "stderr",
     "output_type": "stream",
     "text": [
      "Retrying langchain.chat_models.openai.ChatOpenAI.completion_with_retry.<locals>._completion_with_retry in 4.0 seconds as it raised ServiceUnavailableError: The server is overloaded or not ready yet..\n"
     ]
    },
    {
     "name": "stdout",
     "output_type": "stream",
     "text": [
      "There are currently 27 amendments in the US Constitution.\n",
      "[('What is the last bill of rights in the US Constitution?', 'The last amendment in the Bill of Rights is the Tenth Amendment.'), ('How many amendments are in the US Constitution', 'There are currently 27 amendments in the US Constitution.')]\n"
     ]
    }
   ],
   "source": [
    "query = \"How many amendments are in the US Constitution\"\n",
    "result, chat_history = ask_with_memory(vector_store, query, chat_history)\n",
    "print(result['answer'])\n",
    "print(chat_history)"
   ]
  },
  {
   "cell_type": "code",
   "execution_count": 23,
   "id": "1dc5292b",
   "metadata": {},
   "outputs": [
    {
     "name": "stdout",
     "output_type": "stream",
     "text": [
      "The number of amendments in the US Constitution is 27. Multiplying this by 2 would give a result of 54.\n",
      "[('What is the last bill of rights in the US Constitution?', 'The last amendment in the Bill of Rights is the Tenth Amendment.'), ('How many amendments are in the US Constitution', 'There are currently 27 amendments in the US Constitution.'), ('Multiply that number by 2', 'The number of amendments in the US Constitution is 27. Multiplying this by 2 would give a result of 54.')]\n"
     ]
    }
   ],
   "source": [
    "query = \"Multiply that number by 2\"\n",
    "result, chat_history = ask_with_memory(vector_store, query, chat_history)\n",
    "print(result['answer'])\n",
    "print(chat_history)"
   ]
  },
  {
   "cell_type": "code",
   "execution_count": null,
   "id": "164c456b",
   "metadata": {},
   "outputs": [],
   "source": []
  }
 ],
 "metadata": {
  "kernelspec": {
   "display_name": "Python 3 (ipykernel)",
   "language": "python",
   "name": "python3"
  },
  "language_info": {
   "codemirror_mode": {
    "name": "ipython",
    "version": 3
   },
   "file_extension": ".py",
   "mimetype": "text/x-python",
   "name": "python",
   "nbconvert_exporter": "python",
   "pygments_lexer": "ipython3",
   "version": "3.9.13"
  }
 },
 "nbformat": 4,
 "nbformat_minor": 5
}
