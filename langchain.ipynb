{
 "cells": [
  {
   "cell_type": "markdown",
   "id": "4ab16011",
   "metadata": {},
   "source": [
    "# LangChain Basic"
   ]
  },
  {
   "cell_type": "code",
   "execution_count": 1,
   "id": "3dec4522",
   "metadata": {},
   "outputs": [],
   "source": [
    "!pip install -r ./requirements.txt -q"
   ]
  },
  {
   "cell_type": "code",
   "execution_count": 2,
   "id": "bb707e87",
   "metadata": {},
   "outputs": [
    {
     "name": "stdout",
     "output_type": "stream",
     "text": [
      "Name: langchain\r\n",
      "Version: 0.0.335\r\n",
      "Summary: Building applications with LLMs through composability\r\n",
      "Home-page: https://github.com/langchain-ai/langchain\r\n",
      "Author: \r\n",
      "Author-email: \r\n",
      "License: MIT\r\n",
      "Location: /Users/richard/opt/anaconda3/lib/python3.9/site-packages\r\n",
      "Requires: aiohttp, anyio, async-timeout, dataclasses-json, jsonpatch, langsmith, numpy, pydantic, PyYAML, requests, SQLAlchemy, tenacity\r\n",
      "Required-by: \r\n"
     ]
    }
   ],
   "source": [
    "!pip show langchain"
   ]
  },
  {
   "cell_type": "code",
   "execution_count": 3,
   "id": "9cb24f08",
   "metadata": {},
   "outputs": [],
   "source": [
    "!pip install langchain --upgrade -q"
   ]
  },
  {
   "cell_type": "markdown",
   "id": "8ee9641f",
   "metadata": {},
   "source": [
    "### Python-dotenv"
   ]
  },
  {
   "cell_type": "code",
   "execution_count": 4,
   "id": "3bc8af0c",
   "metadata": {},
   "outputs": [
    {
     "data": {
      "text/plain": [
       "'gcp-starter'"
      ]
     },
     "execution_count": 4,
     "metadata": {},
     "output_type": "execute_result"
    }
   ],
   "source": [
    "import os\n",
    "from dotenv import load_dotenv, find_dotenv\n",
    "load_dotenv(find_dotenv(), override=True)\n",
    "os.environ.get('OPENAI_API_KEY')\n",
    "os.environ.get('PINECONE_API_KEY')\n",
    "os.environ.get('PINECONE_ENV')"
   ]
  },
  {
   "cell_type": "code",
   "execution_count": 5,
   "id": "29927d6e",
   "metadata": {},
   "outputs": [
    {
     "name": "stdout",
     "output_type": "stream",
     "text": [
      "\u001b[1mOpenAI\u001b[0m\n",
      "Params: {'model_name': 'text-davinci-003', 'temperature': 0.7, 'top_p': 1, 'frequency_penalty': 0, 'presence_penalty': 0, 'n': 1, 'logit_bias': {}, 'max_tokens': 512}\n"
     ]
    }
   ],
   "source": [
    "from langchain.llms import OpenAI\n",
    "llm = OpenAI(model_name='text-davinci-003', temperature=0.7, max_tokens=512)\n",
    "print(llm)"
   ]
  },
  {
   "cell_type": "code",
   "execution_count": 7,
   "id": "d3275ab8",
   "metadata": {},
   "outputs": [
    {
     "name": "stdout",
     "output_type": "stream",
     "text": [
      "\n",
      "\n",
      "Computer engineering is the study and application of technology to create and use computing systems and components.\n"
     ]
    }
   ],
   "source": [
    "output = llm('explain computer engineering in one sentence')\n",
    "print(output)"
   ]
  },
  {
   "cell_type": "code",
   "execution_count": 8,
   "id": "ee10e1a3",
   "metadata": {},
   "outputs": [
    {
     "name": "stdout",
     "output_type": "stream",
     "text": [
      "7\n"
     ]
    }
   ],
   "source": [
    "print(llm.get_num_tokens('explain computer engineering in one sentence'))"
   ]
  },
  {
   "cell_type": "code",
   "execution_count": 9,
   "id": "2fa8ac29",
   "metadata": {},
   "outputs": [],
   "source": [
    "output = llm.generate(['... is the capital of England', 'What is the largest animal in the world?'])"
   ]
  },
  {
   "cell_type": "code",
   "execution_count": 10,
   "id": "64e73889",
   "metadata": {},
   "outputs": [
    {
     "name": "stdout",
     "output_type": "stream",
     "text": [
      "[[Generation(text='\\nLondon. \\nLondon is the capital of England.', generation_info={'finish_reason': 'stop', 'logprobs': None})], [Generation(text='\\n\\nThe blue whale is the largest animal in the world. It can grow up to 33 metres (110 feet) long and weigh up to 180 tonnes (400,000 pounds).', generation_info={'finish_reason': 'stop', 'logprobs': None})]]\n"
     ]
    }
   ],
   "source": [
    "print(output.generations)"
   ]
  },
  {
   "cell_type": "code",
   "execution_count": 17,
   "id": "521b8f1d",
   "metadata": {},
   "outputs": [
    {
     "name": "stdout",
     "output_type": "stream",
     "text": [
      "\n",
      "\n",
      "The blue whale is the largest animal in the world. It can grow up to 33 metres (110 feet) long and weigh up to 180 tonnes (400,000 pounds).\n"
     ]
    }
   ],
   "source": [
    "print(output.generations[1][0].text)"
   ]
  },
  {
   "cell_type": "code",
   "execution_count": 18,
   "id": "ed170c12",
   "metadata": {},
   "outputs": [
    {
     "data": {
      "text/plain": [
       "2"
      ]
     },
     "execution_count": 18,
     "metadata": {},
     "output_type": "execute_result"
    }
   ],
   "source": [
    "len(output.generations)"
   ]
  },
  {
   "cell_type": "code",
   "execution_count": 23,
   "id": "779be0f6",
   "metadata": {},
   "outputs": [],
   "source": [
    "output = llm.generate(['Write an original tagline for sushi restaurant'] * 3)"
   ]
  },
  {
   "cell_type": "code",
   "execution_count": 24,
   "id": "44adc3d8",
   "metadata": {},
   "outputs": [
    {
     "name": "stdout",
     "output_type": "stream",
     "text": [
      "generations=[[Generation(text='\\n\\n\"Savor the flavor of tradition with our sushi!\"', generation_info={'finish_reason': 'stop', 'logprobs': None})], [Generation(text='\\n\\n\"Let Us Take You on a Flavorful Journey!\"', generation_info={'finish_reason': 'stop', 'logprobs': None})], [Generation(text='\\n\\n\"Let the Taste of Our Sushi Take You on a Delicious Journey!\"', generation_info={'finish_reason': 'stop', 'logprobs': None})]] llm_output={'token_usage': {'total_tokens': 67, 'prompt_tokens': 24, 'completion_tokens': 43}, 'model_name': 'text-davinci-003'} run=[RunInfo(run_id=UUID('aaf6c29f-0abb-4bc5-bf1d-4ed10fc713b2')), RunInfo(run_id=UUID('c6cd639a-f9d9-4358-883e-2a5131af9bd5')), RunInfo(run_id=UUID('8ec19339-1d57-468d-9211-f6797e83ec5b'))]\n"
     ]
    }
   ],
   "source": [
    "print(output)"
   ]
  },
  {
   "cell_type": "code",
   "execution_count": 25,
   "id": "8edf8351",
   "metadata": {},
   "outputs": [
    {
     "name": "stdout",
     "output_type": "stream",
     "text": [
      "\n",
      "\n",
      "\"Savor the flavor of tradition with our sushi!\"\n",
      "\n",
      "\"Let Us Take You on a Flavorful Journey!\"\n",
      "\n",
      "\"Let the Taste of Our Sushi Take You on a Delicious Journey!\""
     ]
    }
   ],
   "source": [
    "for output in output.generations:\n",
    "    print(output[0].text, end='')"
   ]
  },
  {
   "cell_type": "code",
   "execution_count": null,
   "id": "ebdbc274",
   "metadata": {},
   "outputs": [],
   "source": []
  }
 ],
 "metadata": {
  "kernelspec": {
   "display_name": "Python 3 (ipykernel)",
   "language": "python",
   "name": "python3"
  },
  "language_info": {
   "codemirror_mode": {
    "name": "ipython",
    "version": 3
   },
   "file_extension": ".py",
   "mimetype": "text/x-python",
   "name": "python",
   "nbconvert_exporter": "python",
   "pygments_lexer": "ipython3",
   "version": "3.9.13"
  }
 },
 "nbformat": 4,
 "nbformat_minor": 5
}
