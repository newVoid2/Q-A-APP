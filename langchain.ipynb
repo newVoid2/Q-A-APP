{
 "cells": [
  {
   "cell_type": "markdown",
   "id": "4ab16011",
   "metadata": {},
   "source": [
    "# LangChain Basic"
   ]
  },
  {
   "cell_type": "code",
   "execution_count": 1,
   "id": "3dec4522",
   "metadata": {},
   "outputs": [],
   "source": [
    "!pip install -r ./requirements.txt -q"
   ]
  },
  {
   "cell_type": "code",
   "execution_count": 2,
   "id": "bb707e87",
   "metadata": {},
   "outputs": [
    {
     "name": "stdout",
     "output_type": "stream",
     "text": [
      "Name: langchain\r\n",
      "Version: 0.0.335\r\n",
      "Summary: Building applications with LLMs through composability\r\n",
      "Home-page: https://github.com/langchain-ai/langchain\r\n",
      "Author: \r\n",
      "Author-email: \r\n",
      "License: MIT\r\n",
      "Location: /Users/richard/opt/anaconda3/lib/python3.9/site-packages\r\n",
      "Requires: aiohttp, anyio, async-timeout, dataclasses-json, jsonpatch, langsmith, numpy, pydantic, PyYAML, requests, SQLAlchemy, tenacity\r\n",
      "Required-by: langchain-experimental\r\n"
     ]
    }
   ],
   "source": [
    "!pip show langchain"
   ]
  },
  {
   "cell_type": "code",
   "execution_count": 3,
   "id": "9cb24f08",
   "metadata": {},
   "outputs": [],
   "source": [
    "!pip install langchain --upgrade -q"
   ]
  },
  {
   "cell_type": "markdown",
   "id": "8ee9641f",
   "metadata": {},
   "source": [
    "### Python-dotenv"
   ]
  },
  {
   "cell_type": "code",
   "execution_count": 4,
   "id": "3bc8af0c",
   "metadata": {},
   "outputs": [
    {
     "data": {
      "text/plain": [
       "'gcp-starter'"
      ]
     },
     "execution_count": 4,
     "metadata": {},
     "output_type": "execute_result"
    }
   ],
   "source": [
    "import os\n",
    "from dotenv import load_dotenv, find_dotenv\n",
    "load_dotenv(find_dotenv(), override=True)\n",
    "os.environ.get('OPENAI_API_KEY')\n",
    "os.environ.get('PINECONE_API_KEY')\n",
    "os.environ.get('PINECONE_ENV')"
   ]
  },
  {
   "cell_type": "code",
   "execution_count": 5,
   "id": "29927d6e",
   "metadata": {},
   "outputs": [
    {
     "name": "stdout",
     "output_type": "stream",
     "text": [
      "\u001b[1mOpenAI\u001b[0m\n",
      "Params: {'model_name': 'text-davinci-003', 'temperature': 0.7, 'top_p': 1, 'frequency_penalty': 0, 'presence_penalty': 0, 'n': 1, 'logit_bias': {}, 'max_tokens': 512}\n"
     ]
    }
   ],
   "source": [
    "from langchain.llms import OpenAI\n",
    "llm = OpenAI(model_name='text-davinci-003', temperature=0.7, max_tokens=512)\n",
    "print(llm)"
   ]
  },
  {
   "cell_type": "code",
   "execution_count": 6,
   "id": "d3275ab8",
   "metadata": {},
   "outputs": [
    {
     "name": "stdout",
     "output_type": "stream",
     "text": [
      "\n",
      "\n",
      "Computer Engineering is the study of design, development, and maintenance of computer hardware and software systems.\n"
     ]
    }
   ],
   "source": [
    "output = llm('explain computer engineering in one sentence')\n",
    "print(output)"
   ]
  },
  {
   "cell_type": "code",
   "execution_count": 7,
   "id": "ee10e1a3",
   "metadata": {},
   "outputs": [
    {
     "name": "stdout",
     "output_type": "stream",
     "text": [
      "7\n"
     ]
    }
   ],
   "source": [
    "print(llm.get_num_tokens('explain computer engineering in one sentence'))"
   ]
  },
  {
   "cell_type": "code",
   "execution_count": 8,
   "id": "2fa8ac29",
   "metadata": {},
   "outputs": [],
   "source": [
    "output = llm.generate(['... is the capital of England', 'What is the largest animal in the world?'])"
   ]
  },
  {
   "cell_type": "code",
   "execution_count": 9,
   "id": "64e73889",
   "metadata": {},
   "outputs": [
    {
     "name": "stdout",
     "output_type": "stream",
     "text": [
      "[[Generation(text='\\nLondon.\\n', generation_info={'finish_reason': 'stop', 'logprobs': None})], [Generation(text='\\n\\nThe largest animal in the world is the blue whale. It can grow up to 30 meters (100 feet) long and weigh up to 180 metric tons.', generation_info={'finish_reason': 'stop', 'logprobs': None})]]\n"
     ]
    }
   ],
   "source": [
    "print(output.generations)"
   ]
  },
  {
   "cell_type": "code",
   "execution_count": 10,
   "id": "521b8f1d",
   "metadata": {},
   "outputs": [
    {
     "name": "stdout",
     "output_type": "stream",
     "text": [
      "\n",
      "\n",
      "The largest animal in the world is the blue whale. It can grow up to 30 meters (100 feet) long and weigh up to 180 metric tons.\n"
     ]
    }
   ],
   "source": [
    "print(output.generations[1][0].text)"
   ]
  },
  {
   "cell_type": "code",
   "execution_count": 11,
   "id": "ed170c12",
   "metadata": {},
   "outputs": [
    {
     "data": {
      "text/plain": [
       "2"
      ]
     },
     "execution_count": 11,
     "metadata": {},
     "output_type": "execute_result"
    }
   ],
   "source": [
    "len(output.generations)"
   ]
  },
  {
   "cell_type": "code",
   "execution_count": 12,
   "id": "779be0f6",
   "metadata": {},
   "outputs": [],
   "source": [
    "output = llm.generate(['Write an original tagline for sushi restaurant'] * 3)"
   ]
  },
  {
   "cell_type": "code",
   "execution_count": 13,
   "id": "44adc3d8",
   "metadata": {},
   "outputs": [
    {
     "name": "stdout",
     "output_type": "stream",
     "text": [
      "generations=[[Generation(text='\\n\\n\"Savour the flavour of fresh sushi!\"', generation_info={'finish_reason': 'stop', 'logprobs': None})], [Generation(text='\\n\\n\"Experience the Taste of Japan with Our Fresh Sushi!\"', generation_info={'finish_reason': 'stop', 'logprobs': None})], [Generation(text='\\n\\n\"Sushi So Good, You\\'ll Want Seconds!\"', generation_info={'finish_reason': 'stop', 'logprobs': None})]] llm_output={'token_usage': {'completion_tokens': 38, 'total_tokens': 62, 'prompt_tokens': 24}, 'model_name': 'text-davinci-003'} run=[RunInfo(run_id=UUID('60db426a-428a-453e-9904-ac9017a357fe')), RunInfo(run_id=UUID('173c80af-4fda-45cf-879f-1e7b5adf55eb')), RunInfo(run_id=UUID('9a5ec24e-e79d-4cf1-aeb0-bed85a4548d8'))]\n"
     ]
    }
   ],
   "source": [
    "print(output)"
   ]
  },
  {
   "cell_type": "code",
   "execution_count": 14,
   "id": "8edf8351",
   "metadata": {},
   "outputs": [
    {
     "name": "stdout",
     "output_type": "stream",
     "text": [
      "\n",
      "\n",
      "\"Savour the flavour of fresh sushi!\"\n",
      "\n",
      "\"Experience the Taste of Japan with Our Fresh Sushi!\"\n",
      "\n",
      "\"Sushi So Good, You'll Want Seconds!\""
     ]
    }
   ],
   "source": [
    "for output in output.generations:\n",
    "    print(output[0].text, end='')"
   ]
  },
  {
   "cell_type": "markdown",
   "id": "c0d461cc",
   "metadata": {},
   "source": [
    "### ChatModels: GPT-3.5-Turbo and GPT-4"
   ]
  },
  {
   "cell_type": "code",
   "execution_count": 15,
   "id": "6201f2bd",
   "metadata": {},
   "outputs": [],
   "source": [
    "from langchain.schema import(AIMessage, HumanMessage, SystemMessage)\n",
    "from langchain.chat_models import ChatOpenAI"
   ]
  },
  {
   "cell_type": "code",
   "execution_count": 16,
   "id": "112247b3",
   "metadata": {},
   "outputs": [],
   "source": [
    "chat = ChatOpenAI(model_name='gpt-4', temperature=0.5, max_tokens=1024)\n",
    "messages = [\n",
    "    SystemMessage(content='You are a physicist.'),\n",
    "    HumanMessage(content='explain quantum mechanics in one sentence') \n",
    "]\n",
    "output = chat(messages)"
   ]
  },
  {
   "cell_type": "code",
   "execution_count": 17,
   "id": "2ae2bfd6",
   "metadata": {},
   "outputs": [
    {
     "name": "stdout",
     "output_type": "stream",
     "text": [
      "Quantum mechanics is the branch of physics that deals with the smallest particles in the universe, like atoms and photons, where traditional laws of physics no longer apply and instead, phenomena such as superposition and quantum entanglement occur.\n"
     ]
    }
   ],
   "source": [
    "print(output.content)"
   ]
  },
  {
   "cell_type": "markdown",
   "id": "bb81b169",
   "metadata": {},
   "source": [
    "### Prompt Templates"
   ]
  },
  {
   "cell_type": "code",
   "execution_count": 18,
   "id": "d9628992",
   "metadata": {},
   "outputs": [],
   "source": [
    "from langchain import PromptTemplate"
   ]
  },
  {
   "cell_type": "code",
   "execution_count": 19,
   "id": "f7259024",
   "metadata": {},
   "outputs": [
    {
     "name": "stdout",
     "output_type": "stream",
     "text": [
      "input_variables=['language', 'virus'] template='You are an experienced virologist.\\nWrite a few sentences about the following {virus} in {language}.'\n"
     ]
    }
   ],
   "source": [
    "template = '''You are an experienced virologist.\n",
    "Write a few sentences about the following {virus} in {language}.'''\n",
    "\n",
    "prompt = PromptTemplate(\n",
    "    input_variables=['virus', 'language'],\n",
    "    template=template\n",
    ")\n",
    "print(prompt)"
   ]
  },
  {
   "cell_type": "code",
   "execution_count": 20,
   "id": "04163269",
   "metadata": {},
   "outputs": [
    {
     "name": "stdout",
     "output_type": "stream",
     "text": [
      "\n",
      "\n",
      "एचआईवी एक केवल मानवों के लिए खतरनाक वायरस है। यह एक अनुभूतिवादी वायरस है जो एक बार शरीर में फैलता है तो वह बिना आधारित उपचार के सदैव शरीर में रहता है। इसके प्रभाव अनेक\n"
     ]
    }
   ],
   "source": [
    "from langchain.llms import OpenAI\n",
    "llm = OpenAI(model_name='text-davinci-003', temperature=0.7)\n",
    "output = llm(prompt.format(virus='HIV', language='hindi'))\n",
    "print(output)"
   ]
  },
  {
   "cell_type": "markdown",
   "id": "797bd75d",
   "metadata": {},
   "source": [
    "### Simple Chains"
   ]
  },
  {
   "cell_type": "code",
   "execution_count": 21,
   "id": "c9764c6c",
   "metadata": {},
   "outputs": [],
   "source": [
    "from langchain.chat_models import ChatOpenAI\n",
    "from langchain import PromptTemplate\n",
    "from langchain.chains import LLMChain\n",
    "\n",
    "llm = ChatOpenAI(model_name='gpt-4', temperature=0.5)\n",
    "\n",
    "template = '''You are an experienced virologist.\n",
    "Write a few sentences about the following {virus} in {language}.'''\n",
    "\n",
    "prompt = PromptTemplate(\n",
    "    input_variables=['virus', 'language'],\n",
    "    template=template\n",
    ")\n",
    "\n",
    "chain = LLMChain(llm=llm, prompt=prompt)\n",
    "\n",
    "output = chain.run({'virus': 'HSV', 'language': 'french'})"
   ]
  },
  {
   "cell_type": "code",
   "execution_count": 22,
   "id": "38933585",
   "metadata": {},
   "outputs": [
    {
     "name": "stdout",
     "output_type": "stream",
     "text": [
      "L'HSV, ou Herpes Simplex Virus, est un virus qui provoque des infections chez l'homme. Il existe deux types principaux : HSV-1, généralement associé aux infections orales comme les boutons de fièvre, et HSV-2, généralement associé à l'herpès génital. Ces virus sont très courants et peuvent causer des symptômes allant de légères éruptions cutanées à des complications plus graves, notamment des méningites ou des encéphalites.\n"
     ]
    }
   ],
   "source": [
    "print(output)"
   ]
  },
  {
   "cell_type": "markdown",
   "id": "07a474c3",
   "metadata": {},
   "source": [
    "### Sequential Chains"
   ]
  },
  {
   "cell_type": "code",
   "execution_count": 23,
   "id": "59af7add",
   "metadata": {},
   "outputs": [
    {
     "name": "stdout",
     "output_type": "stream",
     "text": [
      "\n",
      "\n",
      "\u001b[1m> Entering new SimpleSequentialChain chain...\u001b[0m\n",
      "\u001b[36;1m\u001b[1;3m\n",
      "\n",
      "def decision_tree(data, features, target):\n",
      "    '''\n",
      "    Function to build a decision tree for a given dataset.\n",
      "\n",
      "    Parameters:\n",
      "    data: The dataset (Pandas DataFrame) to be used\n",
      "    features: The list of features (as column names) to be used for the decision tree\n",
      "    target: The target variable (as column name) to be used for the decision tree\n",
      "\n",
      "    Returns:\n",
      "    tree: The decision tree (as a sklearn DecisionTreeClassifier object)\n",
      "    '''\n",
      "\n",
      "    # Store the features and target variables\n",
      "    X = data[features]\n",
      "    y = data[target]\n",
      "    \n",
      "    # Create the decision tree\n",
      "    tree = DecisionTreeClassifier()\n",
      "    tree.fit(X, y)\n",
      "    \n",
      "    return tree\u001b[0m\n",
      "\u001b[33;1m\u001b[1;3mThe provided Python function, `decision_tree()`, is intended to build a decision tree classifier based on the provided dataset, features, and target variable.\n",
      "\n",
      "This function has three parameters:\n",
      "\n",
      "1. `data`: This parameter is expected to be a pandas DataFrame that contains the dataset to be used in the decision tree classifier. This DataFrame should include both the features (independent variables) and the target (dependent variable).\n",
      "\n",
      "2. `features`: This is a list of the features to be used for the decision tree. These features should be the column names in the `data` DataFrame that represent the independent variables.\n",
      "\n",
      "3. `target`: This is the target variable to be used for the decision tree. It should be the column name in the `data` DataFrame that represents the dependent variable. \n",
      "\n",
      "The function first extracts the features and target data from the `data` DataFrame into `X` and `y` respectively. Then it creates an instance of `DecisionTreeClassifier`, a class provided by the sklearn library for constructing a decision tree classifier. The decision tree is trained using the `fit` method with `X` and `y` as inputs.\n",
      "\n",
      "The function then returns the trained decision tree classifier.\n",
      "\n",
      "This decision tree can be used for making predictions on unseen data, with the `predict` method, or for checking the accuracy of the model on the training data, with the `score` method.\n",
      "\n",
      "It is worth noting that this function uses the default parameters for the `DecisionTreeClassifier` constructor, which means it does not set any restrictions on the depth of the tree, the minimum number of samples required to split an internal node, etc. This can potentially lead to overfitting, especially with a large or complex dataset.\u001b[0m\n",
      "\n",
      "\u001b[1m> Finished chain.\u001b[0m\n"
     ]
    }
   ],
   "source": [
    "from langchain.chat_models import ChatOpenAI\n",
    "from langchain.llms import OpenAI\n",
    "from langchain import PromptTemplate\n",
    "from langchain.chains import LLMChain, SimpleSequentialChain\n",
    "\n",
    "llm1 = OpenAI(model_name='text-davinci-003', temperature=0.7, max_tokens=1024)\n",
    "prompt1 = PromptTemplate(\n",
    "    input_variables=['concept'],\n",
    "    template='''You are an experienced scientist and and Python programmer.\n",
    "    Write a function that implements the concept of {concept}.'''\n",
    ")\n",
    "\n",
    "chain1 = LLMChain(llm=llm1, prompt=prompt1)\n",
    "\n",
    "llm2 = ChatOpenAI(model_name='gpt-4', temperature=0.7, max_tokens=1024)\n",
    "prompt2 = PromptTemplate(\n",
    "    input_variables=['function'],\n",
    "    template='''Given the Python function {function}, describe it as detailed as possible.'''\n",
    ")\n",
    "\n",
    "chain2 = LLMChain(llm=llm2, prompt=prompt2)\n",
    "\n",
    "overall_chain = SimpleSequentialChain(chains=[chain1, chain2], verbose=True)\n",
    "output = overall_chain.run('decision tree')"
   ]
  },
  {
   "cell_type": "markdown",
   "id": "5d583b95",
   "metadata": {},
   "source": [
    "### LangChain Agents"
   ]
  },
  {
   "cell_type": "code",
   "execution_count": 24,
   "id": "160ba287",
   "metadata": {},
   "outputs": [],
   "source": [
    "!pip install langchain_experimental -q"
   ]
  },
  {
   "cell_type": "code",
   "execution_count": 25,
   "id": "5f14f857",
   "metadata": {},
   "outputs": [],
   "source": [
    "from langchain_experimental.agents.agent_toolkits import create_python_agent\n",
    "from langchain_experimental.tools.python.tool import PythonREPLTool\n",
    "from langchain.llms import OpenAI"
   ]
  },
  {
   "cell_type": "code",
   "execution_count": 26,
   "id": "a040cacd",
   "metadata": {},
   "outputs": [
    {
     "name": "stdout",
     "output_type": "stream",
     "text": [
      "\n",
      "\n",
      "\u001b[1m> Entering new AgentExecutor chain...\u001b[0m\n"
     ]
    },
    {
     "name": "stderr",
     "output_type": "stream",
     "text": [
      "Python REPL can execute arbitrary code. Use with caution.\n"
     ]
    },
    {
     "name": "stdout",
     "output_type": "stream",
     "text": [
      "\u001b[32;1m\u001b[1;3m I need to calculate the factorial of 20 and then take the square root of that\n",
      "Action: Python_REPL\n",
      "Action Input: from math import factorial; print(round(factorial(20)**0.5, 4))\u001b[0m\n",
      "Observation: \u001b[36;1m\u001b[1;3m1559776268.6285\n",
      "\u001b[0m\n",
      "Thought:\u001b[32;1m\u001b[1;3m I now know the final answer\n",
      "Final Answer: 1559776268.6285\u001b[0m\n",
      "\n",
      "\u001b[1m> Finished chain.\u001b[0m\n"
     ]
    },
    {
     "data": {
      "text/plain": [
       "'1559776268.6285'"
      ]
     },
     "execution_count": 26,
     "metadata": {},
     "output_type": "execute_result"
    }
   ],
   "source": [
    "llm = OpenAI(temperature=0)\n",
    "agent_executor = create_python_agent(\n",
    "    llm=llm,\n",
    "    tool=PythonREPLTool(),\n",
    "    verbose=True\n",
    ")\n",
    "agent_executor.run('Calculate the square root of the factorial of 20 and display it with 4 decimal points')"
   ]
  },
  {
   "cell_type": "code",
   "execution_count": 27,
   "id": "69735b46",
   "metadata": {},
   "outputs": [
    {
     "name": "stdout",
     "output_type": "stream",
     "text": [
      "\n",
      "\n",
      "\u001b[1m> Entering new AgentExecutor chain...\u001b[0m\n",
      "\u001b[32;1m\u001b[1;3m I need to use the Python REPL to calculate this\n",
      "Action: Python_REPL\n",
      "Action Input: print(5.1 ** 7.3)\u001b[0m\n",
      "Observation: \u001b[36;1m\u001b[1;3m146306.05007233328\n",
      "\u001b[0m\n",
      "Thought:\u001b[32;1m\u001b[1;3m I now know the final answer\n",
      "Final Answer: 146306.05007233328\u001b[0m\n",
      "\n",
      "\u001b[1m> Finished chain.\u001b[0m\n"
     ]
    },
    {
     "data": {
      "text/plain": [
       "'146306.05007233328'"
      ]
     },
     "execution_count": 27,
     "metadata": {},
     "output_type": "execute_result"
    }
   ],
   "source": [
    "agent_executor.run('what is the answer to 5.1 ** 7.3?')"
   ]
  },
  {
   "cell_type": "markdown",
   "id": "6b7e13ac",
   "metadata": {},
   "source": [
    "### Splitting and Embedding Text Using LangChain"
   ]
  },
  {
   "cell_type": "code",
   "execution_count": 28,
   "id": "49563795",
   "metadata": {},
   "outputs": [],
   "source": [
    "from langchain.text_splitter import RecursiveCharacterTextSplitter\n",
    "with open('./speech.txt') as f:\n",
    "    churchill_speech = f.read()\n",
    "text_splitter = RecursiveCharacterTextSplitter(\n",
    "    chunk_size=100,\n",
    "    chunk_overlap=20,\n",
    "    length_function=len\n",
    ")"
   ]
  },
  {
   "cell_type": "code",
   "execution_count": 29,
   "id": "c72e7752",
   "metadata": {},
   "outputs": [
    {
     "name": "stdout",
     "output_type": "stream",
     "text": [
      "Winston Churchill Speech - We Shall Fight on the Beaches\n",
      "We Shall Fight on the Beaches June 4, 1940\n"
     ]
    }
   ],
   "source": [
    "chunks = text_splitter.create_documents([churchill_speech])\n",
    "print(chunks[0].page_content)"
   ]
  },
  {
   "cell_type": "code",
   "execution_count": 30,
   "id": "57e11933",
   "metadata": {},
   "outputs": [
    {
     "name": "stdout",
     "output_type": "stream",
     "text": [
      "Now you have 271\n"
     ]
    }
   ],
   "source": [
    "print(f'Now you have {len(chunks)}')"
   ]
  },
  {
   "cell_type": "markdown",
   "id": "f8be3ea6",
   "metadata": {},
   "source": [
    "### Embedding Cost"
   ]
  },
  {
   "cell_type": "code",
   "execution_count": 31,
   "id": "317b8fc7",
   "metadata": {},
   "outputs": [
    {
     "name": "stdout",
     "output_type": "stream",
     "text": [
      "Total Tokens: 5411\n",
      "Embedding Cost in USD: 0.002164\n"
     ]
    }
   ],
   "source": [
    "def print_embedding_cost(texts):\n",
    "    import tiktoken\n",
    "    enc = tiktoken.encoding_for_model('text-embedding-ada-002')\n",
    "    total_tokens = sum([len(enc.encode(page.page_content)) for page in texts])\n",
    "    print(f'Total Tokens: {total_tokens}')\n",
    "    print(f'Embedding Cost in USD: {total_tokens / 1000 * 0.0004:.6f}')\n",
    "\n",
    "print_embedding_cost(chunks)"
   ]
  },
  {
   "cell_type": "code",
   "execution_count": 32,
   "id": "db8cc212",
   "metadata": {},
   "outputs": [],
   "source": [
    "from langchain.embeddings import OpenAIEmbeddings\n",
    "embedding = OpenAIEmbeddings()"
   ]
  },
  {
   "cell_type": "code",
   "execution_count": 33,
   "id": "2b511268",
   "metadata": {},
   "outputs": [
    {
     "name": "stdout",
     "output_type": "stream",
     "text": [
      "[-0.04163887412437536, -0.03931994048443049, -0.0029783007191567586, -0.009364924530082527, 0.017162656661664204, 0.022335663763372475, -0.027878169376654358, -0.009428631651727594, 0.0021564809454112355, 0.004338444739480498, 0.0069440594955055635, 0.0339685571674064, 0.007683060243943148, -0.009868209394094662, 0.0047366130856089225, -0.003908422366868246, 0.015608207550137546, -0.0035357366365672003, 0.011690228416530599, -0.00953056211503711, -0.006217800171396992, -0.027037237233584668, 0.026553064971727346, -0.006357955373354842, -0.01337846294917319, -0.01637269021591057, 0.010798331507467444, -0.020692022818897544, 0.001434999422595397, -0.013047186847941438, 0.006179575898409953, -0.005558433092185093, -0.01893370998678409, 0.004959587545705358, -0.017162656661664204, -0.022628715591617186, -0.02112523124608399, -0.01097671051675104, 0.023571577266673804, -0.013696998557398518, 0.014155687970597814, 0.005526579531362559, 0.008874381090399404, 0.0037905646574861685, -0.030018723075993035, 0.021137971739090416, 0.020335264800330356, -0.010938486243764001, -0.015875775598401646, 0.042505287253457896, 0.016398173064568596, 0.019494332657260666, -0.019800124978511805, -0.034784004599172885, -0.016640259195497255, 0.010186744070997403, -0.019609004544899195, 0.020653799477233094, -0.006638266242931836, -0.022195507164430743, -0.004596457883651072, -0.007485568632504738, -0.011773048140330478, -0.011537332255905029, -0.001097352492783814, -0.010110295525023325, -0.03577783383419073, 0.036211040398732, -0.00211347875471614, 0.011537332255905029, 0.032286692881267016, 0.025966959452592742, 0.005892894316668451, 0.011683858170027386, 0.017290070904954335, -0.008562216659999877, -0.018768072401829507, -0.016844121984761467, 0.0033860253663625904, 0.010511649925725943, 0.01990205637314391, -0.01737925994393484, 0.0030340443341808675, 0.010645434415519288, 0.030961586613694827, 0.004927733984882825, 0.006784792157054194, 0.02759785804141607, 4.1309988466293e-05, -0.023049181663152032, -0.009632493509669215, -0.003062712538921147, 0.004105913978306655, 0.005717700430636462, -0.012989850904122172, 0.021278126475386974, -0.017124433319999754, 0.02563568428268358, 0.018717106704513452, -0.023214819248106616, 0.02767430658739015, 0.0042938497543289515, -0.01642365591322662, -0.0076766895317786415, -0.010027476732546033, -0.00418873323644524, -0.014818241104383909, -0.008275535078258376, -0.005663549610068803, -0.005851484920429806, -0.014601636890790685, 0.012473824615781023, 0.0151877414786027, -0.039447352865075454, 0.0006123832516216491, -0.042046599702903774, -0.005838743496100793, -0.013161859666902555, 0.014729051134080816, -0.034860451282501786, 0.008651406630302968, -0.0017392002299586441, 0.02098507464714226, -0.00500736765410851, 0.002755326259060323, 0.018181968745340078, -0.022297438559062847, -0.014958395840680464, 0.020462679043620487, 0.014614378315119698, 0.036389418476693004, 0.028999410992317162, 0.030732240975772592, -0.037536144803659015, -0.02266693893328164, 0.02836234163851168, -0.01778698552246326, 0.007396379127862941, -0.012830583565670803, 0.0015775438162379226, 0.01221899612920076, 0.03906511199785023, -0.015914000802711274, -0.013977308961314218, 0.0020147329489969353, 0.024017526186866676, 0.02889748146033023, 0.008549475235670864, 0.003806491437897435, -0.009511450444204884, 0.009103725796999052, -0.007167033955601999, 0.019366918413970535, -0.004902251136224799, 0.020959591798484233, 0.012582126256916341, -0.01565917231613101, 0.027470443798125938, -0.01502210296232553, -0.003319133121465918, 0.04087439238992492, 0.030732240975772592, 0.03136931032957807, 0.008422060992380733, 0.04309139463523767, 0.013174601091231569, 0.02427235467344694, 0.00989369224275269, -0.010830184602628683, 0.02600518465690237, 0.013212825364218608, 0.011053159062725118, -0.006701972898915608, 0.0031821630427596743, -0.0028190333807053885, 0.03452917611259262, 0.023635285319641458, -0.0041441382512936945, -0.0026215417692669793, -1.2648072881967903e-05, -0.029636482208767818, 0.014346809335533011, 0.01793988261441142, 0.0011300023344192483, -0.016015932197343378, 0.018653400514190975, 0.0041441382512936945, 0.0020625130574000875, 0.014410516457178077, -0.014920171567693425, 0.003953017352019791, 0.01534063763922827, 0.019545298354576718, -0.006886723086025005, -0.6654065348329489, -0.020730248023207172, 0.001845909425883482, -0.00888712158340583, 0.01713717381300618, 0.010154890975836165, 0.0012391004891981144, 0.0039944267482584376, -0.013569584314108388, 0.01049253732357113, -0.010091183854191098, 0.006861240237366978, -0.00022576157390882993, -0.017914399765753392, -0.005102928336576109, -0.022246472861746795, -0.004064504582068009, -0.00779136235073976, 0.019570781203234744, 0.0027043607945749174, 0.008148120834968244, 0.02171133490257342, -0.006278321704129158, 0.01567191467178261, 0.010314158314287534, -0.006192317322738966, -0.001874577514208438, -0.035038833085753146, -0.018080037350707973, 0.011225167825505502, -0.035828799531506784, 0.01745570848990892, 0.006676490050257582, 0.0010647026511483796, 0.034452729429263716, -0.0245271831600272, -0.02562294192703198, 0.008785191120096313, 0.016283501176930063, 0.010963969092422027, 0.013849894718024088, -0.016436398268878223, 0.012053358544246178, 0.0016930126831812952, -0.017481191338566945, 0.02600518465690237, 0.018997418039751742, -0.013212825364218608, 0.0003778619630385381, -0.005096557624411602, -0.005453316574301381, -0.009218398615960171, 0.0191503151316999, 0.021622145863592915, 0.005357755891833783, -0.0059343041785683915, 0.009906433667081703, -0.02619630509051498, -0.002035437647116258, 0.010486167077067917, -0.0064025503585063885, 0.01438503360852005, -0.029509067965477684, -0.021978903882160106, -0.012626720776406593, -0.0010041811184162144, -0.027954617922628437, 0.01097671051675104, 0.03363727827220688, -0.0012828990771214352, -0.009071872701837813, 0.01646188111753625, -0.014818241104383909, -0.012957996877638345, 0.006899464510354018, 0.00501055324302141, 0.01418117081925584, -0.014563412617803646, -0.0030722686071679066, -0.018920969493777664, 0.0002763289707473618, -0.01858969246122332, -0.025164252513832683, 0.01999124727476959, 0.028821032914356153, -0.01579932891507274, -0.01937965890697696, 0.0027409922731055068, 0.010441571626255077, -0.004819432343747507, 0.018054554502049947, 0.03702649155578884, 0.009880950818423677, -0.012327298701658666, -0.006173205186245446, 0.010842926026957696, 0.012168030431884708, -0.001161059498013556, 0.009702570877817493, -0.014907430143364412, 0.002460681636359159, 0.005800519223113754, 0.0021007373303871266, 0.005644437473575284, 0.0032617967119853595, -0.00177742438653036, -0.018895486645119638, 0.014716309709751803, 0.011530961078079228, -0.011155090457357224, 0.015493534731176428, 0.009052760099683, -0.022259215217398397, 0.0181182625550176, 0.01206609996857519, -0.02094685130547781, 0.006249653732219525, 0.025610201434025554, -0.0027282508487764937, -0.012563013654761528, 0.010753736056654604, -0.014486964071829568, 0.006294248251709777, -0.032516036656544074, 0.011467253956434163, 0.030859655219062723, 0.011575556528892068, -0.007307189157559849, 0.0175448993915346, 0.012040617119917165, 0.00515070844497926, 0.007065102560969894, 0.023253042589771067, 0.0075492757541498045, 0.011142349033028211, 0.013493135768134308, 0.01230181585300064, -0.005800519223113754, 0.015888517954053247, -0.02408123423983433, -0.023469647734686877, 0.015391603336544322, -0.000907824271551038, 0.0038701983267118534, -0.0170734676226837, -0.023673508661305912, -0.023788182411589618, -0.03914156240646949, -0.03175155119680329, 0.01478001683139687, 0.022322921407720873, -0.016805898643097013, -0.01377344617205001, -0.017748762180798808, 0.004042207322322884, 0.0015592280769726279, -0.008848898241741378, -0.007670318819614135, 0.004488155776854461, -0.04095083907325382, 0.0059597870272264175, 0.003927534503361765, -0.020717505667555574, 0.0045709750349930455, 0.015124034356957635, 0.01567191467178261, -0.0006868407463175033, 0.03842804264404475, 0.0013059928505101098, -0.027954617922628437, 0.011722082443014425, -0.006396179646341881, -0.00035576359887365226, 0.03320407170766561, 0.0014772053324775911, 0.006600041969944797, -0.015812069408079166, -0.021647626849605764, 0.032235727183950964, 0.004411707696541676, -0.004128211703713075, -0.018449537724926766, -0.01097671051675104, -0.014652602588106738, 0.00580688993527826, -0.015238707175918752, 0.030018723075993035, -0.008046190371658728, -0.015455310458189387, 0.005622139748168864, 0.0018586507337971716, -0.003433805474765742, 0.0040039830493358445, 0.008109896561981205, 0.0013800522047995132, 0.011620151048382321, -0.019978504919117988, 0.0017200880934651246, 0.016143346440633508, 0.017761502673805232, 0.0053195316188467436, 0.010065701005533072, 0.02567390762434803, -0.009441373076056607, 0.038071282762832385, -0.011263392098492541, 0.003280908848478879, -0.027827203679338306, 0.054584131440329864, 0.013238308212876634, 0.0025387227439590413, -0.010320528560790746, -0.04388136108099131, -0.0034465468990947557, -0.001716902737382871, 0.01322556678854762, 0.0026103929065637694, -0.007001395904986122, -0.003761896452745889, -0.0054565016975529875, -0.0006685250070522088, 0.011722082443014425, -0.013544101465450362, 0.008281906256084177, -0.04423811723691332, 0.029585516511451766, -0.008179974861452072, -0.0028859256256020603, -0.006988654480657109, -3.809975224661541e-05, 0.0011618557788264576, -0.011288874947150567, 0.009224768862463383, 0.008230940558768125, 0.006316545977116197, 0.0031582729885580984, 0.005571174516514106, -0.025329890098787264, 0.040415701114080445, -0.015404344760873335, 0.027419478100809885, 0.009046389853179787, 0.007976112072187862, -0.01133346946664082, 2.218545374081806e-05, -0.006670119338093076, 0.024208648483124463, 0.0018825409044140712, -0.01745570848990892, 0.014372292184191037, -0.005943860013984504, 0.006765680020560674, -0.02060283377991704, -0.0034911418842463013, 0.0025068691831365082, -0.0005550469585564135, -0.0031025293735339895, 0.0023969747475447406, 0.013633291435753453, 0.03529366157233341, 0.0018841335824551979, 0.004532750762006006, 0.030859655219062723, 0.002366713748348011, -0.002776031190010293, -0.0019446552316026867, 0.003360542517704564, 0.025852287564954213, -0.013403945797831216, -0.026858857292978485, -0.013174601091231569, -0.005673105445484917, 0.011097753582215372, -0.0191503151316999, 0.00853673381134185, 0.006727455747573634, 0.032643449037189035, 0.003053156470674387, -0.007326301294053369, 0.02843879018448576, -0.015098551508299609, -0.03575234912288753, 0.0017806097426126132, 0.03664424696327327, -0.020793954213529652, -0.010963969092422027, -0.00829464768041319, 0.01689508768207752, -0.010046588403378258, -0.0015385232624379817, 0.00468883297720577, 0.031139966554301013, -0.01772327933214078, -0.0197109359395313, -0.017481191338566945, -0.013684257133069505, 0.024259614180440515, -0.02085766040385213, -0.006440774631493428, -0.01855146911955887, 0.0027218801366119872, 0.010237709768313456, 0.0007867810314637221, -0.007581129314972337, 0.017799726015469686, 0.00598845499913605, -0.01829664063297861, -0.00018703966906947342, 0.011123236430873398, -0.002239299970719174, 0.019226763677673977, 0.0005673901842713141, -0.016321724518594517, 0.004392595560048156, 0.00340513750285611, 0.001012940789434749, -0.017124433319999754, -0.016997019076709623, 0.01750667418722497, 0.00033824416952509006, 0.0017153100593417445, -0.02439976891673707, -0.021622145863592915, -0.01726458805629631, 0.12425407203330774, 0.01073462438582238, 0.005071074775753576, 0.0005431018732479638, 0.030069688773309088, 0.010944857421589802, -0.01714991616865778, -0.0058960799055813515, 0.006319731100367803, 0.005462872409717494, -0.0027362143553974505, 0.006370696797683855, -0.0023937893914624873, -0.005061518474676169, -0.012569384832587328, -0.011072270733557344, -0.022424852802352978, 0.0015233928792549403, -0.006600041969944797, -0.0045869015825736655, -0.008504879784858024, 0.020067695820743667, -0.006912205934683031, 0.008982682731534722, -0.01217440160971051, -0.029228756630239397, 0.012677686473722645, 0.017697796483482756, 0.009823614874604411, 0.006740197171902647, 3.9493341894622364e-05, 0.009460484746888832, 0.006912205934683031, 0.007396379127862941, 0.010575357047371009, 0.008721483998451247, -0.015455310458189387, 0.014932912992022438, 0.01842405487626874, -0.02275612983490732, -0.028566204427775892, -0.024361543712427443, -0.0025403153055848443, -0.02111248889043239, 0.018857263303455187, 0.004784393194012074, 0.003433805474765742, 0.026986271536268615, -0.021851489638869976, 0.0005968546698244952, 0.011562815104563055, 0.010632692991190275, -0.014410516457178077, -0.020500902385284937, -0.0330256936297046, 0.03134382934356522, 0.012410117494135958, 0.04441649904016469, 0.012199884458368535, 0.013110893969586503, -0.02260323274295916, -0.02443799225840152, -0.011441771107776137, -0.008523992387012838, -0.005937489301819998, -0.0025132398953010148, -0.02060283377991704, -0.018882746152113213, -0.009243881464618197, -0.017162656661664204, -0.011932315478781848, -0.0037204868236765964, -0.008976311553708921, 0.010148519798010364, 0.029942274530018954, -0.013467652919476282, 0.0093394416814245, -0.014932912992022438, -0.008460285265367773, -0.013747963323391982, -0.022972733117177953, -0.012391004891981144, -0.03488593599380499, -0.030146137319283166, -0.008275535078258376, 0.03210831107801566, 0.0036249263740396453, -0.024374286068079044, -0.00853673381134185, 0.04258173766207715, 0.003487956528164048, 0.010205856673152217, 0.0051857471290534, -0.004813061631583001, 0.007491939344669246, 0.0005247861339826691, 0.004172806223203327, -0.00532590233101125, -0.011403546834789098, 0.01934143556531251, 0.010951227668093014, -0.03537010825566231, -0.01341668722216023, -0.014716309709751803, -0.008785191120096313, 0.001968545402219586, 0.0034019521467738567, 0.013429428646489243, -0.02492216638290402, -0.004481785064689954, 0.018169226389688476, -0.014805499680054896, 0.010772848658809418, 0.014015533234301257, -0.010505278747900143, 0.030783206673088644, 0.013913601839669153, 0.02183874914586355, -0.007880551855381557, 0.00965160611182403, 0.02019510820138862, -0.020207850557040222, 0.01694605337939357, -0.009345811927927713, -0.022017127223824557, 0.014818241104383909, -0.015391603336544322, -0.030757723824430618, -0.01853872676390727, -0.013454911495147269, -0.013671515708740492, 0.002825404092869895, 0.0021915196294853747, -0.009842726545436636, -0.01637269021591057, 0.009192915767302145, -0.0010113481113936224, -0.000937288757104219, -0.012970738301967358, -0.021329092172703026, -0.011448142285601938, 0.001131595012460375, -0.014372292184191037, -0.020411713346304435, -0.002207446409896641, -0.025686649979999632, 0.0028875184200585105, -0.015812069408079166, 0.01174119411384665, 0.009110096043502264, -0.012276333004342613, 0.006797533581383207, -0.0004244476793261688, 0.03200637968338355, -0.012894290687315868, -0.030273551562573296, -0.025699390473006057, 0.02227195571040482, 0.018768072401829507, 0.045639672050459594, -0.007460085783846712, 0.009505079266379083, 0.010326899738616547, 0.007351784142711395, 0.003806491437897435, -0.030706758127114566, 0.0019812865937179525, -0.011448142285601938, -0.027037237233584668, -0.02191519769183763, 0.031445760738197326, 0.009683459206985268, 0.013289273910192686, 0.008186345107955285, 0.01578658655942114, 0.007472827208175725, 0.004714315825863797, 0.004217401208354873, -0.009020907004521761, -0.01758312273319905, -0.01829664063297861, -0.01585029274974362, -0.008581328330832102, -0.009747166328630333, -0.000989050735233173, -0.024195906127472862, 0.03689907544985353, 0.007804103775068773, -0.0037682671649103957, -0.008880751336902616, 0.008160862259297259, 0.005698588294142943, 0.0026932121647023546, 0.00022177987880601333, -0.020118659655414543, -0.013977308961314218, -0.01850050342224282, -0.011390806341782673, -0.017532157035882998, 0.010791960329641644, 0.03384114106147109, 0.00580688993527826, -0.0020656984134823407, 0.005446945862136875, 0.005937489301819998, 0.019940281577453537, -0.013926343263998166, 0.005399165753733722, -0.005778221963368627, -0.006431218330416021, -0.014907430143364412, -0.00714792181910848, 0.00466653525179935, -0.04112921715121483, 0.008721483998451247, 0.00436392712247723, -5.044297796151599e-05, 0.0006091978955393958, 0.01881903809914556, -0.012945255453309332, 0.011537332255905029, -0.011282503769324766, -0.00015229947388484895, -0.008715112820625447, 0.030655792429798514, 0.020284299103014304, 0.01262035052990338, -0.029254239478897423, 0.02815848071189265, 0.01262035052990338, 0.00291459383034234, 0.028744584368382075, 0.00886163966607039, 0.010951227668093014, 0.007842327582394518, -0.026807891595662433, 0.04423811723691332, 0.002167629575283799, -0.013212825364218608, 0.025546493381057897, 0.028413307335827732, -0.003612185182541279, -0.007479197920340232, -0.01995302207045996, -0.03274538043182114, 0.03802031706551633, -0.03460562652121187, -0.012289074428671626, -0.014907430143364412, -0.020959591798484233, -0.018857263303455187, -0.00789329327971057, -0.02884651576301418, 0.015149517205615661, 0.011862237179310982, 0.006924947359012044, -0.009842726545436636, -0.003040415046345374, 0.0035516634169784666, 0.008715112820625447, -0.014843723953041935, 0.006638266242931836, -0.033943072456103195, -0.02780172083068028, 0.03108900085698496, 0.012391004891981144, 0.0016930126831812952, -0.009027277251024974, 0.015557241852821493, 0.021061523193116338, -0.023673508661305912, -0.01681863913610344, -0.015735620862105087, 0.013327497251857138, 0.009243881464618197, -0.012626720776406593, 0.008428432170206534, -0.0025992442766912065, 0.00422377192051938, 0.0019812865937179525, 0.007332672006217875, 0.021329092172703026, -0.0018809482263729446, -0.02490942402725242, 0.009313958832766474, -0.003726857535841103, 0.01281784214134179, 0.004593272294738172, -0.016805898643097013, -0.02274338747925572, -0.024629114554659305, 0.0017376075519175175, -0.018678883362849, 0.0287700672170401, 0.002774438395553843, 0.00389568117536988, -0.009020907004521761, 0.03781645800154248, -0.025724873321664083, 0.009607010661011188, 0.023533353925009354, 0.00472705725019281, -0.002548278812205801, 0.01586303510539522, 0.007103326833956933, -0.013015333752780198, 0.017404742792592867, -0.024985872573226497, -0.026476616425753267, -0.011581926775395282, -0.0074218619765209675, 0.013684257133069505, -0.0024527183625688495, -0.01797810595607587, 0.013429428646489243, 0.017570382240192625, 0.015251448600247765, 0.0038256033415603077, -0.026858857292978485, 0.0062369123078905115, 0.018971935191093716, -0.0018475021039246087, 0.02059009142426544, -0.02466733789632376, 0.028871998611672205, 0.009989252459558994, 0.005125225596321234, 0.018691623855855426, 0.007581129314972337, -0.006233726718977611, 0.02206809292114061, -0.005074259899005182, 0.010906633148602763, -0.022195507164430743, -0.017888916917095366, -0.01638543257156217, -0.0029082231181778335, 0.006482184027732073, 0.024043009035524702, 0.016882347189071095, -0.0012494529546730993, 0.020054953465092066, 0.022144541467114687, -0.022934507912868326, -0.005332273043175757, -0.020182367708382196, -0.011556443926737254, 0.017290070904954335, -0.02355883677366738, -0.013161859666902555, 0.011836754330652956, 0.03842804264404475, 0.006233726718977611, 0.015353379063557283, -0.0234823882276933, 0.004873583164315166, -0.015455310458189387, 0.007714913804765681, -0.013276532485863673, -0.00243360622607533, 0.030095171621967114, 0.010447942804080878, 0.01797810595607587, 0.017825208864127712, -0.011964168573943086, 0.0022297439024724142, 0.004720686538028303, -0.016168829289291534, -0.0037109309882604837, -0.024450734614053123, -0.017634088430515102, 0.018882746152113213, -0.025380855796103316, 0.02098507464714226, 0.022259215217398397, 0.009384036200914754, -0.008543104057845063, 0.012512048888768062, -0.008791561366599525, -0.0045996430069026786, -0.0009556044963695136, -0.0319554139860675, -0.0068421285665347525, 0.024323320370762992, -0.0029098156798036366, -0.0478311933097595, 0.0016993833953458017, 0.002228151108015964, 0.004981884805450484, -0.007988853496516875, -0.013187342515560582, 0.02427235467344694, -0.017035242418374074, 0.010027476732546033, -0.016640259195497255, -0.02490942402725242, -0.0021421467266257723, -0.020462679043620487, 0.04416167055358442, 0.022144541467114687, -0.004956401956792458, -0.007823215911562292, -0.0018570581721713685, 0.0004555048138166456, -0.00470475952478639, -0.01815648589668205, -0.0468628450607545, -0.002733028999315197, -0.024641855047665733, -0.014372292184191037, 0.00925662288894721, -0.0009157876617566711, 0.009473226171217845, -0.04558870635314354, -0.002224965751933711, -0.011193314730344264, -0.006861240237366978, -0.016653001551148856, 0.033943072456103195, 0.018245674935662554, -0.014652602588106738, -0.003452917611259262, -0.014754533982738842, -0.021176196943400043, 0.008358353870735667, -0.024578148857343253, 0.008517621209187037, -0.004058133869903503, -0.012887919509490068, 0.016844121984761467, -0.034401763731947664, -0.017557639884541024, 0.0025196106074655213, -0.0077340259412592, -0.01597770699303375, -0.001567191467178261, 0.2067163765755823, -0.03172607021079044, -0.010760107234480405, 0.014130205121939788, -0.0068421285665347525, 0.00565080818573979, 0.02536811530309689, 0.0012653796186690423, 0.010441571626255077, -0.010358752833777787, -0.014155687970597814, -0.002021103661161442, -0.006772050732725181, 0.016117863591975482, 0.014627119739448712, -0.02927972232755545, -0.029432619419503606, -0.04309139463523767, -0.001520207523172687, -0.018449537724926766, 0.013212825364218608, -0.003956202940932692, -0.0008305796193870429, 0.005198488553382413, 0.002672507233752385, -0.026119856544540902, -0.0015727657821145427, 0.009562416141520936, 0.01077921890531263, -0.008466656443193573, -0.045639672050459594, 0.004325703315151484, -0.0229217674198619, 0.008071673220316754, -0.002790365175965109, 0.01049890850139693, 0.02945810226816163, 0.00404539244557449, 0.00240493802133505, 0.012231737553529774, 0.0004865619774109533, -0.01746845084556052, -0.0007931517436282286, 2.4151410240865465e-05, -0.015162258629944674, 0.009218398615960171, 0.002615171057102473, -0.01621979312396241, 0.004316147014074077, 0.025342632454438865, -0.029126825235607293, -0.0016993833953458017, 0.015085810083970596, 0.043218807015882627, 0.030400965805863427, -0.03215927677533171, 0.010575357047371009, -0.004927733984882825, 0.0011594668199724294, -0.017290070904954335, -0.006708343611080115, 0.016716707741471333, -0.0031582729885580984, 0.030197103016599218, -0.003123234071653312, 0.027317548568822958, -0.02383914810890567, 0.032821830840440394, 0.003293650272807892, -0.021354575021361052, 0.008810673968754339, -0.018971935191093716, -0.03045193150317948, -0.0006625524935018147, -0.03409596954805135, -0.0029448545967084225, 0.017251847563289884, -0.0014827796474138728, 0.01002110648604282, 0.012875178085161055, -0.020704765174549146, -0.004860841739986153, 0.005539320955691572, -0.0026470246179250054, 0.02652758212306932, -0.015557241852821493, 0.010556244445216195, 0.007460085783846712, -0.0191503151316999, 0.007861440184549331, -0.011065900487054131, -0.03218476148663491, -0.0010320529259282688, 0.012696799075877459, 0.0008039022913020026, 0.007020508041479643, 0.018742589553171478, 0.007275335596737317, 0.004427634244122295, 0.009842726545436636, -0.011849495754981969, 0.004032651021245477, 0.00615090792650032, 0.0038001207257329283, -0.005259010086114578, -0.008230940558768125, 0.00813537941063923, 0.03651683458262831, 0.0016898273270990417, -0.0002609994882572642, -0.013302015334521699, -0.011116866184370185, 0.003051563676217937, -0.002605614988855713, 0.0008727854710615753, -0.004456302216031928, -0.03134382934356522, 0.008160862259297259, 0.024336060863769417, -0.003452917611259262, -0.000633884346969197, -0.02043719619496246, -0.0016946053612224218, 0.027699789436048176, -0.00949233784205007, -0.013467652919476282, -0.0271646514768748, 0.011390806341782673, -0.017200881865973832, -0.050608814500258475, 0.008020707523000702, -0.021966163389153682, 0.014996620113667505, -0.015302413366241231, -0.023533353925009354, -0.003155087632475845, 0.009167432918644119, -0.011448142285601938, -0.014907430143364412, -0.0017121248196748148, 0.0022345218201804706, -0.03659328126595722, -0.025661167131341606, 0.030222585865257244, -0.0021564809454112355, -0.03654231556864117, 0.005122040007408334, 0.004109099567219556, -0.008020707523000702, -0.024756526935304262, -0.007116068258285946, 0.001348198760392304, 0.012773246690528949, -0.020411713346304435, 0.023061922156158456, -0.014346809335533011, -0.008218199134439112, -0.022004386730818132, -0.01478001683139687, 0.020067695820743667, -0.0011841532714022306, -0.02527892440147121, 0.030299034411231322, -0.03501334837444994, -0.019163055624706323, -0.01875533190882308, -0.16125507887779336, 0.02211905861845666, 0.01322556678854762, -0.018258417291314156, 0.019736418788189325, 0.010435201379751865, 0.03786741997356818, 0.030146137319283166, 0.007319930581888862, 0.00548835525837552, 0.012327298701658666, 0.01875533190882308, -0.03238862427589912, -0.004274737617835432, -0.003347801093375551, -0.01567191467178261, -0.023928337147886173, 0.019214021322022375, -0.0069313180711765504, 0.0016739005466877754, 0.018678883362849, -0.01579932891507274, -0.008810673968754339, -0.036389418476693004, 0.0039020518875343864, -0.01790165741010179, -0.019366918413970535, 0.016716707741471333, -0.0009667532426574, -0.02215728382276629, -0.0384025616580319, 0.015964966500027326, 0.00809715606897478, -0.005112484171992221, 0.01101493478973808, 0.008027077769503914, -0.005306790660179024, 0.005157079157143767, -0.019290469867996457, 0.015442569033860374, 0.014652602588106738, 0.015073068659641583, -0.002675692589834638, -0.002653395330089512, -0.03529366157233341, 0.016092380743317456, -0.004230142632683886, 0.004717500949115403, 0.005609398323839851, -0.018398572027610714, -0.015875775598401646, -0.017251847563289884, -0.0005355366816564431, 0.006574559121286771, -0.0014214617174534824, -0.007823215911562292, 0.0037332282480056094, 0.0025323520317945348, 0.008103526315477992, 0.006644636955096343, -0.032567002353860126, -0.028999410992317162, -0.0016627519168152124, -0.01597770699303375, -0.004484970653602855, -0.009874579640597876, -0.019749159281195753, 0.01185586693280777, -0.008154492012794045, 0.008842527063915577, -0.0008194308730991565, -0.044085220144965166, 0.009040018675353987, -0.03080868952174667, 0.008230940558768125, -0.02182600679021195, -0.026654994503714276, -0.0030929733052872297, -0.018971935191093716, -0.004195103948609747, -0.0023396383380641815, 0.05173005984121163, -0.012754135019696723, 0.011288874947150567, 0.011511849407247003, -0.004128211703713075, -0.012792359292683762, 0.00434481498598371, -0.009384036200914754, -0.014754533982738842, 0.01554450042849248, -0.01890822900077124, -0.019405141755634986, -0.015213224327260726, 0.0032426845754918395, 0.020539125726949388, -0.0022870800791223262, 0.012422858918464971, -0.0125439019839293, -0.009167432918644119, 0.021048782700109913, -0.013556842889779375, -0.03136931032957807, 0.04130759895446619, 0.019494332657260666, 0.015812069408079166, 0.011537332255905029, 0.02800558361994449, 0.039931528852223126, 0.0019589893339728263, -0.023405939681719223, 0.028693618671066023, 0.02215728382276629, 0.02279435317657177, 0.005978899163719937, 0.017621347937508677, 0.01470356828542279, -0.03521721116371415, 0.011607409624053308, 0.002949632514416479, 0.039345425195733696, 0.005634881172497877, -0.01049253732357113, 0.0013338646580221642, 0.011645633897040347, 0.004972328970034371, -0.06982283395963568, -0.004395780683299762, -0.002514832456926818, 0.043142360332553725, -0.008874381090399404, 0.026807891595662433, -0.0009412704522070356, 0.02355883677366738, -0.00097392029384247, 0.016576553005174778, 0.01506032723531257, -0.005392795041569216, -0.007409120552191954, 0.007116068258285946, 0.023291267794080694, -0.008664148054631981, -0.020207850557040222, -0.013760704747720997, -0.02279435317657177, -0.003430620118683489, 0.017035242418374074, -0.00953693329286291, -0.0075365343298207915, -0.02359706011533183, -0.014142946546268801, 0.01177941838683369, -0.02112523124608399, 0.019685453090873273, 0.04535936257786648, 0.009033648428850774, -0.0069695423441635896, 0.001979694032092149, 0.016283501176930063, -0.010524391350054957, -0.005596657365172132, -0.009989252459558994, -0.014334067911203998, -0.023380456833061197, 0.002892296337766567, -0.03192993300005465, -0.002115071316341943, 0.020653799477233094, 0.007491939344669246, -0.04716863924465081, -0.004762095934266949, -0.012231737553529774, 0.00023870203933723757, 0.011148719279531424, 0.002277524010875566, -0.022972733117177953, -0.018271157784320584, -0.01230181585300064, -0.014155687970597814, -0.0239538199965442, -0.0026103929065637694, 0.0019175797049035337, -0.012760505266199935, 0.017799726015469686, -0.020016730123427615, 0.002091181262140367, -0.0175448993915346, -0.004606013719067185, -0.03919252810378554, 0.010842926026957696, 0.02139280022567068, 0.021966163389153682, -0.014869205870377373, -0.01118057330601525, 0.021048782700109913, -0.016283501176930063, -0.0037555257405813827, 0.019519815505918692, -0.01457615404213266, 0.03340793449692982, -0.003978500200677818, -0.004806690919418494, -0.017353778957921992, 0.0008130601609346498, 0.013811670445037049, -0.014639861163777725, -0.010269562863474694, -0.01534063763922827, 0.00886163966607039, -0.012563013654761528, -0.0033541718055400574, 0.03305117461571745, 0.00809078489114898, -0.006848499278699259, 0.006912205934683031, -0.007982483250013663, -0.0018857262604963245, 0.03570138342557148, 0.011008563611912279, -0.023418682037370825, -0.023724474358621964, 0.02627275363648906, -0.018475020573584792, 0.011129607608699198, -0.014104722273281762, 0.010970340270247828, -0.015175000054273687, -0.012352781550316693, -0.08179974675187554, 0.039880563154907074, 0.013276532485863673, -0.016449138761884648, -0.0029878567874035184, -0.0002725463749516015, -0.003417878927185123, -0.011760306716001465, -0.005717700430636462, 0.012728652171038697, -0.02408123423983433, 0.011543702502408241, 0.009963769610900968, 0.023724474358621964, -0.02657854782038537, -0.007135180394779467, 0.02112523124608399, -0.005411906712401441, -0.0014971137497840124, 0.011409918012614899, -0.00275373369743452, -0.006386623345264474, 0.023800922904596043, 0.009345811927927713, -0.0033892107224448437, 0.008817044215257551, -0.011728452689517638, 0.030910620916378775, -0.016551070156516752, -0.006275136115216257, -0.009728053726475519, -0.02675692589834638, -0.020131402011066144, 0.01907386658572582, -0.008103526315477992, -0.0022807093669578193, 0.008651406630302968, 0.014767275407067857, 0.006778421444889687, 0.0404411821000933, 0.013837153293695075, -0.022131800974108263, 0.019698193583879697, 0.014486964071829568, 0.007867810431052544, 0.007472827208175725, -0.009447743322559819, 0.009052760099683, 0.01506032723531257, -0.0008942865664091233, -0.003806491437897435, 0.025571976229715927, 0.012276333004342613, -0.016602035853832804, 0.01453792976914562, -0.005389609452656315, 0.03320407170766561, 0.01610512123632388, 0.015136775781286648, -0.015149517205615661, 0.010791960329641644, 0.021876972487528002, 0.021099748397425965, 0.013123635393915516, 0.02059009142426544, 0.017493933694218547, 0.03024806871391527, 2.4300723807221086e-05, -0.021494731620302784, -0.014601636890790685, 0.011632892472711334, 0.0034815858159995415, 0.0065012961642255925, 0.015620948974466559, 0.004695203689370276, 0.007587500027136844, -0.0018554654941302419, -0.002124627384588703, -0.008581328330832102, 0.00012114278246488626, 0.001173800922342569, -0.0016866419710167885, -0.039370906181746546, 0.00582918766068468, 0.030171620167941192, 0.025495527683741845, 0.018092779706359575, 0.001987657305882459, -0.015136775781286648, -0.002900259611556877, -0.0234823882276933, -0.02126538598238055, 0.00470794511369929, 0.0065172227118062125, 0.010702770359338552, 0.01793988261441142, 0.000445550605163435, 0.022424852802352978, -0.0059120064531619715, 0.018283900139972182, -0.003726857535841103, 0.002871591639647244, 0.0013752741706761333, 0.008989052978037934, -0.003099344017451736, 0.012728652171038697, 0.002812662668540882, -0.015684655164789035, 0.003701374920013724, 0.0027139168628216776, 0.019672712597866848, 0.04133307994047904, 0.0012199884691199182, 0.006676490050257582, -0.014550671193474633, 0.0233931991887128, -0.0018299826454722156, 0.0019303211292325468, -0.011537332255905029, 0.030604826732482462, 0.0019000603628664642, 5.7883754313999644e-05, 0.012505677710942261, -0.011091383335712158, -0.0001944057904577687, 0.014474223578823142, 0.0059597870272264175, 0.010670917264177314, -0.029636482208767818, 0.02169859254692182, -0.008154492012794045, 0.0009723276158013433, -0.003946646639855285, -0.015812069408079166, 0.009747166328630333, -0.005478799422959407, -0.008606811179490128, 0.015557241852821493, -0.04197014929428452, 0.0319554139860675, 0.01982560782716983, -0.014270360789558933, 0.0029464471583342255, -0.015735620862105087, 0.025266183908464787, -0.013251049637205647, -0.004096358142890543, -0.02754689234410002, -0.020934108949826207, 0.008269164831755164, -0.00550746739486904, 0.0029735228014487023, -0.034478210415276565, 0.003745969672334623, -0.0035612194852252263, 0.00566673473332041, 0.016691224892813307, -0.03226120816996381, -0.021252643626728948, 0.04326977271319868, 0.004115470279384062, 0.009275734559779435, 0.028336858789853654, 0.0014764089352493663, -0.021583920659283287, -0.0013561620341826137, -0.012206254704871747, -0.018475020573584792, -0.040797941981305666, -0.009645234933998229, -0.003644038510533165, -0.04490067130202201, 0.0018634287679205515, -0.004481785064689954, 0.0008321722974281696, -0.008243681983097138, -0.019430624604293012, 0.023800922904596043, 0.014690826861093777, -0.000874378149102702, 0.011021305036241292, -0.03567590243955863, -0.032286692881267016, 0.008938087280721882, 0.026170822241856954, -0.0076512066831206154, 0.007307189157559849, -0.00486721245215066]\n"
     ]
    }
   ],
   "source": [
    "vector = embedding.embed_query(chunks[0].page_content)\n",
    "print(vector)"
   ]
  },
  {
   "cell_type": "markdown",
   "id": "44ee5002",
   "metadata": {},
   "source": [
    "### Inserting the Embeddings into a Pinecone Index"
   ]
  },
  {
   "cell_type": "code",
   "execution_count": 35,
   "id": "77c5472b",
   "metadata": {},
   "outputs": [],
   "source": [
    "import os\n",
    "import pinecone\n",
    "from langchain.vectorstores import Pinecone\n",
    "pinecone.init(api_key=os.environ.get('PINECONE_API_KEY'), environment=os.environ.get('PINECONE_ENV'))"
   ]
  },
  {
   "cell_type": "code",
   "execution_count": 36,
   "id": "e25d797b",
   "metadata": {},
   "outputs": [
    {
     "name": "stdout",
     "output_type": "stream",
     "text": [
      "Deleting all indexes ... Done\n"
     ]
    }
   ],
   "source": [
    "# deleting all indexes\n",
    "indexes = pinecone.list_indexes()\n",
    "for i in indexes:\n",
    "    print('Deleting all indexes ... ', end='')\n",
    "    pinecone.delete_index(i)\n",
    "    print('Done')"
   ]
  },
  {
   "cell_type": "code",
   "execution_count": 37,
   "id": "22c17fca",
   "metadata": {},
   "outputs": [
    {
     "name": "stdout",
     "output_type": "stream",
     "text": [
      "Creating index churchill-speech ...\n",
      "Done\n"
     ]
    }
   ],
   "source": [
    "index_name = 'churchill-speech'\n",
    "if index_name not in pinecone.list_indexes():\n",
    "    print(f'Creating index {index_name} ...')\n",
    "    pinecone.create_index(index_name, dimension=1536, metric='cosine')\n",
    "    print('Done')"
   ]
  },
  {
   "cell_type": "code",
   "execution_count": 38,
   "id": "21c467a8",
   "metadata": {},
   "outputs": [],
   "source": [
    "vector_store = Pinecone.from_documents(chunks, embedding, index_name=index_name)"
   ]
  },
  {
   "cell_type": "markdown",
   "id": "56f6b5ed",
   "metadata": {},
   "source": [
    "### Asking Questions (Similarity Search)"
   ]
  },
  {
   "cell_type": "code",
   "execution_count": 40,
   "id": "9adf3527",
   "metadata": {},
   "outputs": [
    {
     "name": "stdout",
     "output_type": "stream",
     "text": [
      "[Document(page_content='on the beaches, we shall fight on the landing grounds, we shall fight in the fields and in the'), Document(page_content='Winston Churchill Speech - We Shall Fight on the Beaches\\nWe Shall Fight on the Beaches June 4, 1940'), Document(page_content='fields and in the streets, we shall fight in the hills; we shall never surrender, and even if,'), Document(page_content='When we consider how much greater would be our advantage in defending the air above this Island')]\n"
     ]
    }
   ],
   "source": [
    "query = 'Where should we fight?'\n",
    "result = vector_store.similarity_search(query)\n",
    "print(result)"
   ]
  },
  {
   "cell_type": "code",
   "execution_count": 41,
   "id": "4bbb0942",
   "metadata": {},
   "outputs": [
    {
     "name": "stdout",
     "output_type": "stream",
     "text": [
      "on the beaches, we shall fight on the landing grounds, we shall fight in the fields and in the\n",
      "--------------------------------------------------\n",
      "Winston Churchill Speech - We Shall Fight on the Beaches\n",
      "We Shall Fight on the Beaches June 4, 1940\n",
      "--------------------------------------------------\n",
      "fields and in the streets, we shall fight in the hills; we shall never surrender, and even if,\n",
      "--------------------------------------------------\n",
      "When we consider how much greater would be our advantage in defending the air above this Island\n",
      "--------------------------------------------------\n"
     ]
    }
   ],
   "source": [
    "for r in result:\n",
    "    print(r.page_content)\n",
    "    print('-' * 50)"
   ]
  },
  {
   "cell_type": "code",
   "execution_count": 42,
   "id": "5b2614f9",
   "metadata": {},
   "outputs": [],
   "source": [
    "from langchain.chains import RetrievalQA\n",
    "from langchain.chat_models import ChatOpenAI\n",
    "\n",
    "llm = ChatOpenAI(model='gpt-4', temperature=1)\n",
    "\n",
    "retriever = vector_store.as_retriever(search_type='similarity', search_kwargs={'k': 3})\n",
    "\n",
    "chain = RetrievalQA.from_chain_type(llm=llm, chain_type=\"stuff\", retriever=retriever)"
   ]
  },
  {
   "cell_type": "code",
   "execution_count": 43,
   "id": "47bdee95",
   "metadata": {},
   "outputs": [
    {
     "name": "stdout",
     "output_type": "stream",
     "text": [
      "According to Winston Churchill's speech, \"We Shall Fight on the Beaches\", we should fight on the beaches, on the landing grounds, in the fields, in the streets, and in the hills.\n"
     ]
    }
   ],
   "source": [
    "query = 'Where should we fight?'\n",
    "answer = chain.run(query)\n",
    "print(answer)"
   ]
  },
  {
   "cell_type": "code",
   "execution_count": 45,
   "id": "e3086476",
   "metadata": {},
   "outputs": [
    {
     "name": "stdout",
     "output_type": "stream",
     "text": [
      "The French Army was expected to advance across the Somme in great strength. Additionally, there were efforts from the Armies of the north to reopen their communication channels with the main French Armies. The British and French Armies also engaged in combat together.\n"
     ]
    }
   ],
   "source": [
    "query2 = 'What about the French Armies?'\n",
    "answer = chain.run(query2)\n",
    "print(answer)"
   ]
  },
  {
   "cell_type": "code",
   "execution_count": null,
   "id": "b853db6a",
   "metadata": {},
   "outputs": [],
   "source": []
  }
 ],
 "metadata": {
  "kernelspec": {
   "display_name": "Python 3 (ipykernel)",
   "language": "python",
   "name": "python3"
  },
  "language_info": {
   "codemirror_mode": {
    "name": "ipython",
    "version": 3
   },
   "file_extension": ".py",
   "mimetype": "text/x-python",
   "name": "python",
   "nbconvert_exporter": "python",
   "pygments_lexer": "ipython3",
   "version": "3.9.13"
  }
 },
 "nbformat": 4,
 "nbformat_minor": 5
}
